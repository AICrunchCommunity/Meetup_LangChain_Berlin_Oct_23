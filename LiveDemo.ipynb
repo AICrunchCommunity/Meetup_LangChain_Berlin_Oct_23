{
 "cells": [
  {
   "cell_type": "markdown",
   "id": "80177bbb",
   "metadata": {},
   "source": [
    "# Introduction to langchain framework"
   ]
  },
  {
   "cell_type": "markdown",
   "id": "4ecff411",
   "metadata": {},
   "source": [
    "### Installing Langchain"
   ]
  },
  {
   "cell_type": "code",
   "execution_count": null,
   "id": "3c828cf3",
   "metadata": {},
   "outputs": [],
   "source": [
    "#!pip install langchain"
   ]
  },
  {
   "cell_type": "markdown",
   "id": "2e2fa00a",
   "metadata": {},
   "source": [
    "### Installing some relevant libararies in this walk-through"
   ]
  },
  {
   "cell_type": "code",
   "execution_count": 39,
   "id": "506c2377",
   "metadata": {},
   "outputs": [
    {
     "name": "stdout",
     "output_type": "stream",
     "text": [
      "Collecting matplotlib\n",
      "  Obtaining dependency information for matplotlib from https://files.pythonhosted.org/packages/4f/f7/a5d8ff9e9cfcaa31851a711db9844e95685927b3034e30388cd4a15aa669/matplotlib-3.8.0-cp39-cp39-macosx_10_12_x86_64.whl.metadata\n",
      "  Downloading matplotlib-3.8.0-cp39-cp39-macosx_10_12_x86_64.whl.metadata (5.8 kB)\n",
      "Collecting contourpy>=1.0.1 (from matplotlib)\n",
      "  Obtaining dependency information for contourpy>=1.0.1 from https://files.pythonhosted.org/packages/16/d9/8a15ff67fc27c65939e454512955e1b240ec75cd201d82e115b3b63ef76d/contourpy-1.1.1-cp39-cp39-macosx_10_9_x86_64.whl.metadata\n",
      "  Downloading contourpy-1.1.1-cp39-cp39-macosx_10_9_x86_64.whl.metadata (5.9 kB)\n",
      "Collecting cycler>=0.10 (from matplotlib)\n",
      "  Obtaining dependency information for cycler>=0.10 from https://files.pythonhosted.org/packages/e7/05/c19819d5e3d95294a6f5947fb9b9629efb316b96de511b418c53d245aae6/cycler-0.12.1-py3-none-any.whl.metadata\n",
      "  Downloading cycler-0.12.1-py3-none-any.whl.metadata (3.8 kB)\n",
      "Collecting fonttools>=4.22.0 (from matplotlib)\n",
      "  Obtaining dependency information for fonttools>=4.22.0 from https://files.pythonhosted.org/packages/49/de/e4bab99886cfb04b4b9d7feb465fcd3f58808ee2107647414d3343bf8dc6/fonttools-4.43.1-cp39-cp39-macosx_10_9_x86_64.whl.metadata\n",
      "  Downloading fonttools-4.43.1-cp39-cp39-macosx_10_9_x86_64.whl.metadata (152 kB)\n",
      "\u001b[2K     \u001b[90m━━━━━━━━━━━━━━━━━━━━━━━━━━━━━━━━━━━━━━━\u001b[0m \u001b[32m152.4/152.4 kB\u001b[0m \u001b[31m1.5 MB/s\u001b[0m eta \u001b[36m0:00:00\u001b[0ma \u001b[36m0:00:01\u001b[0m\n",
      "\u001b[?25hCollecting kiwisolver>=1.0.1 (from matplotlib)\n",
      "  Obtaining dependency information for kiwisolver>=1.0.1 from https://files.pythonhosted.org/packages/ef/da/e887802f34afb5806f139c71e6d5f20a9f33b2fccd7f9de771094f66ca5e/kiwisolver-1.4.5-cp39-cp39-macosx_10_9_x86_64.whl.metadata\n",
      "  Downloading kiwisolver-1.4.5-cp39-cp39-macosx_10_9_x86_64.whl.metadata (6.4 kB)\n",
      "Requirement already satisfied: numpy<2,>=1.21 in /Users/mahmoudmarei/opt/anaconda3/envs/openaienv/lib/python3.9/site-packages (from matplotlib) (1.26.0)\n",
      "Requirement already satisfied: packaging>=20.0 in /Users/mahmoudmarei/opt/anaconda3/envs/openaienv/lib/python3.9/site-packages (from matplotlib) (23.2)\n",
      "Collecting pillow>=6.2.0 (from matplotlib)\n",
      "  Obtaining dependency information for pillow>=6.2.0 from https://files.pythonhosted.org/packages/32/e4/c955de57d75aa73ebd65dd4cfe56bb3b806de85c1c791ae447af1ac7efc0/Pillow-10.0.1-cp39-cp39-macosx_10_10_x86_64.whl.metadata\n",
      "  Downloading Pillow-10.0.1-cp39-cp39-macosx_10_10_x86_64.whl.metadata (9.5 kB)\n",
      "Collecting pyparsing>=2.3.1 (from matplotlib)\n",
      "  Obtaining dependency information for pyparsing>=2.3.1 from https://files.pythonhosted.org/packages/39/92/8486ede85fcc088f1b3dba4ce92dd29d126fd96b0008ea213167940a2475/pyparsing-3.1.1-py3-none-any.whl.metadata\n",
      "  Downloading pyparsing-3.1.1-py3-none-any.whl.metadata (5.1 kB)\n",
      "Requirement already satisfied: python-dateutil>=2.7 in /Users/mahmoudmarei/opt/anaconda3/envs/openaienv/lib/python3.9/site-packages (from matplotlib) (2.8.2)\n",
      "Requirement already satisfied: importlib-resources>=3.2.0 in /Users/mahmoudmarei/opt/anaconda3/envs/openaienv/lib/python3.9/site-packages (from matplotlib) (6.1.0)\n",
      "Requirement already satisfied: zipp>=3.1.0 in /Users/mahmoudmarei/opt/anaconda3/envs/openaienv/lib/python3.9/site-packages (from importlib-resources>=3.2.0->matplotlib) (3.17.0)\n",
      "Requirement already satisfied: six>=1.5 in /Users/mahmoudmarei/opt/anaconda3/envs/openaienv/lib/python3.9/site-packages (from python-dateutil>=2.7->matplotlib) (1.16.0)\n",
      "Downloading matplotlib-3.8.0-cp39-cp39-macosx_10_12_x86_64.whl (7.6 MB)\n",
      "\u001b[2K   \u001b[90m━━━━━━━━━━━━━━━━━━━━━━━━━━━━━━━━━━━━━━━━\u001b[0m \u001b[32m7.6/7.6 MB\u001b[0m \u001b[31m4.4 MB/s\u001b[0m eta \u001b[36m0:00:00\u001b[0m00:01\u001b[0m00:01\u001b[0m\n",
      "\u001b[?25hDownloading contourpy-1.1.1-cp39-cp39-macosx_10_9_x86_64.whl (247 kB)\n",
      "\u001b[2K   \u001b[90m━━━━━━━━━━━━━━━━━━━━━━━━━━━━━━━━━━━━━━━━\u001b[0m \u001b[32m247.4/247.4 kB\u001b[0m \u001b[31m7.3 MB/s\u001b[0m eta \u001b[36m0:00:00\u001b[0m\n",
      "\u001b[?25hDownloading cycler-0.12.1-py3-none-any.whl (8.3 kB)\n",
      "Downloading fonttools-4.43.1-cp39-cp39-macosx_10_9_x86_64.whl (2.2 MB)\n",
      "\u001b[2K   \u001b[90m━━━━━━━━━━━━━━━━━━━━━━━━━━━━━━━━━━━━━━━━\u001b[0m \u001b[32m2.2/2.2 MB\u001b[0m \u001b[31m9.0 MB/s\u001b[0m eta \u001b[36m0:00:00\u001b[0m00:01\u001b[0m00:01\u001b[0mm\n",
      "\u001b[?25hDownloading kiwisolver-1.4.5-cp39-cp39-macosx_10_9_x86_64.whl (68 kB)\n",
      "\u001b[2K   \u001b[90m━━━━━━━━━━━━━━━━━━━━━━━━━━━━━━━━━━━━━━━━\u001b[0m \u001b[32m68.1/68.1 kB\u001b[0m \u001b[31m3.5 MB/s\u001b[0m eta \u001b[36m0:00:00\u001b[0m\n",
      "\u001b[?25hDownloading Pillow-10.0.1-cp39-cp39-macosx_10_10_x86_64.whl (3.7 MB)\n",
      "\u001b[2K   \u001b[90m━━━━━━━━━━━━━━━━━━━━━━━━━━━━━━━━━━━━━━━━\u001b[0m \u001b[32m3.7/3.7 MB\u001b[0m \u001b[31m10.3 MB/s\u001b[0m eta \u001b[36m0:00:00\u001b[0m00:01\u001b[0m00:01\u001b[0m\n",
      "\u001b[?25hDownloading pyparsing-3.1.1-py3-none-any.whl (103 kB)\n",
      "\u001b[2K   \u001b[90m━━━━━━━━━━━━━━━━━━━━━━━━━━━━━━━━━━━━━━━━\u001b[0m \u001b[32m103.1/103.1 kB\u001b[0m \u001b[31m6.7 MB/s\u001b[0m eta \u001b[36m0:00:00\u001b[0m\n",
      "\u001b[?25hInstalling collected packages: pyparsing, pillow, kiwisolver, fonttools, cycler, contourpy, matplotlib\n",
      "Successfully installed contourpy-1.1.1 cycler-0.12.1 fonttools-4.43.1 kiwisolver-1.4.5 matplotlib-3.8.0 pillow-10.0.1 pyparsing-3.1.1\n"
     ]
    }
   ],
   "source": [
    "#uncomment those lines if you donot have any of the following libraries installed\n",
    "#!pip install openai\n",
    "#!pip install tabulate \n",
    "#!pip install matplotlib\n"
   ]
  },
  {
   "cell_type": "code",
   "execution_count": 2,
   "id": "945c3b3c",
   "metadata": {},
   "outputs": [
    {
     "name": "stdout",
     "output_type": "stream",
     "text": [
      "3.9.17 (main, Jul  5 2023, 16:17:03) \n",
      "[Clang 14.0.6 ]\n"
     ]
    }
   ],
   "source": [
    "\n",
    "import os\n",
    "import sys\n",
    "# I have made mine based on python 3.9.17\n",
    "print(sys.version) \n",
    "\n",
    "sys.path.append('../..')\n",
    "\n",
    "from dotenv import load_dotenv, find_dotenv\n",
    " # read local .env file\n",
    "_ = load_dotenv(find_dotenv())\n"
   ]
  },
  {
   "cell_type": "markdown",
   "id": "921ada82",
   "metadata": {},
   "source": [
    "### Authenticate the access to OpenAI API\n",
    "- you need an account on OpenAI API in order to be able use the API. \n",
    "- When you register your account, you have some free credits to start with. \n",
    "- Afterwards you have to save the api key as an environment variable and load it to python as indicated here. \n",
    "- If you have troubles or questions with any of the steps, just ask Chat-GPT ;) "
   ]
  },
  {
   "cell_type": "code",
   "execution_count": 4,
   "id": "b6068fc2",
   "metadata": {},
   "outputs": [],
   "source": [
    "import openai\n",
    "openai.api_key  = os.environ['OPENAI_API_KEY']"
   ]
  },
  {
   "cell_type": "markdown",
   "id": "89517995",
   "metadata": {},
   "source": [
    "### Import relevant packages"
   ]
  },
  {
   "cell_type": "code",
   "execution_count": 5,
   "id": "8667da16",
   "metadata": {},
   "outputs": [],
   "source": [
    "from langchain.document_loaders import PyPDFLoader\n",
    "from langchain.document_loaders import CSVLoader\n",
    "from langchain.embeddings import OpenAIEmbeddings\n",
    "from langchain.vectorstores import DocArrayInMemorySearch\n",
    "from langchain.chat_models import ChatOpenAI\n",
    "from langchain.output_parsers import ResponseSchema\n",
    "from langchain.output_parsers import StructuredOutputParser\n",
    "from langchain.chains import LLMChain\n",
    "from langchain.chains import RetrievalQA\n",
    "from langchain.chains import SequentialChain\n",
    "from langchain.prompts import ChatPromptTemplate\n",
    "from IPython.display import display, Markdown, Latex\n"
   ]
  },
  {
   "cell_type": "markdown",
   "id": "7779ad03",
   "metadata": {},
   "source": [
    "### Simple Example\n",
    "Chat Models"
   ]
  },
  {
   "cell_type": "code",
   "execution_count": 6,
   "id": "f4f38421",
   "metadata": {},
   "outputs": [
    {
     "name": "stdout",
     "output_type": "stream",
     "text": [
      "content='Good morning! How can I assist you today?'\n"
     ]
    }
   ],
   "source": [
    "\n",
    "llm = ChatOpenAI(temperature=0.2, model_name=\"gpt-3.5-turbo-0301\")\n",
    "llm4 = ChatOpenAI(temperature=0.0, model_name=\"gpt-4\")\n",
    "\n",
    "\n",
    "from langchain.schema import AIMessage, HumanMessage, SystemMessage\n",
    "messages = [\n",
    "    HumanMessage(content=\"Good Morning!\")\n",
    "    ]\n",
    "ai_response = llm(messages)\n",
    "print(ai_response)"
   ]
  },
  {
   "cell_type": "markdown",
   "id": "75015205",
   "metadata": {},
   "source": [
    "![LLM Chain pipeline](./resources/llmChain.png)\n"
   ]
  },
  {
   "cell_type": "markdown",
   "id": "92cb4f3f",
   "metadata": {},
   "source": [
    "Create a Prompt template, where we can pass an input variable to the LLM query. \n",
    "The input variables here are:\n",
    "- language \n",
    "- The text to be translated "
   ]
  },
  {
   "cell_type": "code",
   "execution_count": 7,
   "id": "8264145a",
   "metadata": {},
   "outputs": [],
   "source": [
    "query = \"Translate the following text \\\n",
    "into {language}:  ' {toBeTranslated}' \"\n",
    "prompt = ChatPromptTemplate.from_template(query)"
   ]
  },
  {
   "cell_type": "code",
   "execution_count": 8,
   "id": "4b30128c",
   "metadata": {},
   "outputs": [
    {
     "data": {
      "text/plain": [
       "ChatPromptTemplate(input_variables=['language', 'toBeTranslated'], messages=[HumanMessagePromptTemplate(prompt=PromptTemplate(input_variables=['language', 'toBeTranslated'], template=\"Translate the following text into {language}:  ' {toBeTranslated}' \"))])"
      ]
     },
     "execution_count": 8,
     "metadata": {},
     "output_type": "execute_result"
    }
   ],
   "source": [
    "prompt"
   ]
  },
  {
   "cell_type": "markdown",
   "id": "4fef7926",
   "metadata": {},
   "source": [
    "Define our input to the template"
   ]
  },
  {
   "cell_type": "code",
   "execution_count": 9,
   "id": "7cd27375",
   "metadata": {},
   "outputs": [],
   "source": [
    "input_dict={\"language\": \"Swiss German\", \"toBeTranslated\": \"Let's grab a beer!\"}"
   ]
  },
  {
   "cell_type": "markdown",
   "id": "958ad5ae",
   "metadata": {},
   "source": [
    "Create a Chain and run it using the input"
   ]
  },
  {
   "cell_type": "code",
   "execution_count": 10,
   "id": "6ff4ac43",
   "metadata": {},
   "outputs": [],
   "source": [
    "llm_chain = LLMChain(prompt= prompt, llm=llm)\n",
    "#An LLM chain expects an input dictionary\n",
    "ai_response = llm_chain.run(input_dict)\n"
   ]
  },
  {
   "cell_type": "code",
   "execution_count": 11,
   "id": "208576fb",
   "metadata": {},
   "outputs": [
    {
     "data": {
      "text/plain": [
       "'\"Mir gönd eis bier trinke!\"'"
      ]
     },
     "execution_count": 11,
     "metadata": {},
     "output_type": "execute_result"
    }
   ],
   "source": [
    "ai_response"
   ]
  },
  {
   "cell_type": "markdown",
   "id": "81c522f9",
   "metadata": {},
   "source": [
    "Another example can be seen here"
   ]
  },
  {
   "cell_type": "code",
   "execution_count": 12,
   "id": "95f09cb2",
   "metadata": {},
   "outputs": [
    {
     "data": {
      "text/markdown": [
       "The ingredients you need for Paella are:\n",
       "\n",
       "1. Rice\n",
       "2. Saffron\n",
       "3. Olive oil\n",
       "4. Garlic\n",
       "5. Onion\n",
       "6. Bell peppers\n",
       "7. Tomatoes\n",
       "8. Chicken or seafood or both\n",
       "9. Chorizo\n",
       "10. Chicken broth or fish stock\n",
       "11. Salt\n",
       "12. Paprika\n",
       "13. Lemon wedges (for garnish)"
      ],
      "text/plain": [
       "<IPython.core.display.Markdown object>"
      ]
     },
     "metadata": {},
     "output_type": "display_data"
    }
   ],
   "source": [
    "\n",
    "query = \"Please tell me the ingredients I need for the recipe of {dish}?\"\n",
    "prompt = ChatPromptTemplate.from_template(query)\n",
    "simple_chain = LLMChain(llm=llm, prompt=prompt)\n",
    "input_dict = {\"dish\": \"Paella\"}\n",
    "ai_response = simple_chain.run(input_dict)\n",
    "display(Markdown(ai_response))"
   ]
  },
  {
   "cell_type": "markdown",
   "id": "7710c59f",
   "metadata": {},
   "source": [
    "### Using Simple Sequential Chains\n",
    "![Simple Sequential Chain](./resources/SSChain.png)\n"
   ]
  },
  {
   "cell_type": "code",
   "execution_count": 13,
   "id": "86f6144b",
   "metadata": {},
   "outputs": [],
   "source": [
    "from langchain.chains import SimpleSequentialChain\n",
    "prompt_str1 = \"Tell me the name of the calendar month of the year that comes in this position: {position}\"\n",
    "prompt_str2 = \"Translate the name of this month {month} into French\" \n",
    "prompt_str3 = \"Tell me in one word the name of the following month to {translated_month} in French\" #in this language{language}\"\n",
    "\n",
    "prompt1 = ChatPromptTemplate.from_template(prompt_str1)\n",
    "prompt2 = ChatPromptTemplate.from_template(prompt_str2)\n",
    "prompt3 = ChatPromptTemplate.from_template(prompt_str3)\n",
    "\n",
    "chain1 = LLMChain(llm=llm, prompt=prompt1)\n",
    "chain2 = LLMChain(llm=llm, prompt=prompt2)\n",
    "chain3 = LLMChain(llm=llm, prompt=prompt3)\n",
    "\n",
    "overall_chain = SimpleSequentialChain(\n",
    "    chains=[chain1, chain2, chain3],\n",
    "    verbose=True\n",
    ")\n",
    "\n",
    "input_dict = {\n",
    "    'position' : '2'\n",
    "}\n"
   ]
  },
  {
   "cell_type": "code",
   "execution_count": 14,
   "id": "90b1f88c",
   "metadata": {},
   "outputs": [
    {
     "name": "stdout",
     "output_type": "stream",
     "text": [
      "\n",
      "\n",
      "\u001b[1m> Entering new SimpleSequentialChain chain...\u001b[0m\n",
      "\u001b[36;1m\u001b[1;3mFebruary\u001b[0m\n",
      "\u001b[33;1m\u001b[1;3mFévrier\u001b[0m\n",
      "\u001b[38;5;200m\u001b[1;3mMars.\u001b[0m\n",
      "\n",
      "\u001b[1m> Finished chain.\u001b[0m\n"
     ]
    },
    {
     "data": {
      "text/plain": [
       "'Mars.'"
      ]
     },
     "execution_count": 14,
     "metadata": {},
     "output_type": "execute_result"
    }
   ],
   "source": [
    "overall_chain.run(input= input_dict)"
   ]
  },
  {
   "cell_type": "markdown",
   "id": "d02cf073",
   "metadata": {},
   "source": [
    "Now, what if one of the Chains has more than 1 input/output? \n",
    "### Sequential Chain "
   ]
  },
  {
   "cell_type": "code",
   "execution_count": 15,
   "id": "1bbfd7e1",
   "metadata": {},
   "outputs": [],
   "source": [
    "prompt_str1 = \"Tell me the name of the calendar month of the year that comes in this position: {position}\"\n",
    "prompt_str2 = \"Translate the name of this month {month} into this language {language}\" \n",
    "prompt_str3 = \"Tell me in one word the name of the following month to {translated_month} in {language}\" #in this language{language}\"\n",
    "\n",
    "prompt1 = ChatPromptTemplate.from_template(prompt_str1)\n",
    "prompt2 = ChatPromptTemplate.from_template(prompt_str2)\n",
    "prompt3 = ChatPromptTemplate.from_template(prompt_str3)\n",
    "\n",
    "chain1 = LLMChain(llm=llm, prompt=prompt1, output_key=\"month\")\n",
    "chain2 = LLMChain(llm=llm, prompt=prompt2, output_key=\"translated_month\")\n",
    "chain3 = LLMChain(llm=llm, prompt=prompt3, output_key=\"following_month\")\n",
    "\n",
    "overall_chain = SequentialChain(\n",
    "    chains=[chain1, chain2, chain3],\n",
    "    input_variables=[\"position\", \"language\"],\n",
    "    output_variables=[\"month\", \"translated_month\",\"following_month\"],\n",
    "    verbose=True\n",
    ")\n",
    "\n",
    "input_dict = {\n",
    "    'position' : '5',\n",
    "    'language' : 'German'\n",
    "}\n"
   ]
  },
  {
   "cell_type": "code",
   "execution_count": 16,
   "id": "cf4ea2b4",
   "metadata": {},
   "outputs": [
    {
     "name": "stdout",
     "output_type": "stream",
     "text": [
      "\n",
      "\n",
      "\u001b[1m> Entering new SequentialChain chain...\u001b[0m\n",
      "\n",
      "\u001b[1m> Finished chain.\u001b[0m\n"
     ]
    }
   ],
   "source": [
    "#call the simple sequential chain with the given input \n",
    "result = overall_chain(input_dict)\n"
   ]
  },
  {
   "cell_type": "code",
   "execution_count": 17,
   "id": "f2c46b59",
   "metadata": {},
   "outputs": [
    {
     "data": {
      "text/plain": [
       "'Juni.'"
      ]
     },
     "execution_count": 17,
     "metadata": {},
     "output_type": "execute_result"
    }
   ],
   "source": [
    "result['following_month']"
   ]
  },
  {
   "cell_type": "markdown",
   "id": "769aaca1",
   "metadata": {},
   "source": [
    "### Example for using external content and questioning them\n",
    "![Loading Documents Flow](./resources/loading1.png)\n",
    "\n",
    "List of available loaders in Langchain is listed here https://integrations.langchain.com/\n"
   ]
  },
  {
   "cell_type": "code",
   "execution_count": 18,
   "id": "816ca39b",
   "metadata": {},
   "outputs": [
    {
     "data": {
      "text/html": [
       "<div>\n",
       "<style scoped>\n",
       "    .dataframe tbody tr th:only-of-type {\n",
       "        vertical-align: middle;\n",
       "    }\n",
       "\n",
       "    .dataframe tbody tr th {\n",
       "        vertical-align: top;\n",
       "    }\n",
       "\n",
       "    .dataframe thead th {\n",
       "        text-align: right;\n",
       "    }\n",
       "</style>\n",
       "<table border=\"1\" class=\"dataframe\">\n",
       "  <thead>\n",
       "    <tr style=\"text-align: right;\">\n",
       "      <th></th>\n",
       "      <th>product_name;product_type;price</th>\n",
       "    </tr>\n",
       "  </thead>\n",
       "  <tbody>\n",
       "    <tr>\n",
       "      <th>0</th>\n",
       "      <td>Sony;Gaming Console;3499</td>\n",
       "    </tr>\n",
       "    <tr>\n",
       "      <th>1</th>\n",
       "      <td>Toshiba;Computer ;779</td>\n",
       "    </tr>\n",
       "    <tr>\n",
       "      <th>2</th>\n",
       "      <td>Dell;Computer ;500</td>\n",
       "    </tr>\n",
       "    <tr>\n",
       "      <th>3</th>\n",
       "      <td>God of War ;Video Game;50</td>\n",
       "    </tr>\n",
       "    <tr>\n",
       "      <th>4</th>\n",
       "      <td>FiFA;Video Game;40</td>\n",
       "    </tr>\n",
       "  </tbody>\n",
       "</table>\n",
       "</div>"
      ],
      "text/plain": [
       "  product_name;product_type;price\n",
       "0        Sony;Gaming Console;3499\n",
       "1           Toshiba;Computer ;779\n",
       "2              Dell;Computer ;500\n",
       "3       God of War ;Video Game;50\n",
       "4              FiFA;Video Game;40"
      ]
     },
     "execution_count": 18,
     "metadata": {},
     "output_type": "execute_result"
    }
   ],
   "source": [
    "import pandas as pd\n",
    "df = pd.read_csv('./resources/store.csv')\n",
    "df.head()"
   ]
  },
  {
   "cell_type": "code",
   "execution_count": 19,
   "id": "99ef45d6",
   "metadata": {},
   "outputs": [
    {
     "data": {
      "text/plain": [
       "'The sum of all the product prices is $3639.'"
      ]
     },
     "execution_count": 19,
     "metadata": {},
     "output_type": "execute_result"
    }
   ],
   "source": [
    "loader_csv = CSVLoader(file_path = './resources/store.csv')\n",
    "docs = loader_csv.load()\n",
    "embeddings = OpenAIEmbeddings()\n",
    "db = DocArrayInMemorySearch.from_documents(docs, embeddings)\n",
    "qa_chain = RetrievalQA.from_chain_type(llm=llm, chain_type=\"stuff\", retriever=db.as_retriever())\n",
    "qa_chain.run(query='What is the sum of all the product prices?',\n",
    "filter={\"source\":\"./resources/store.csv\"})"
   ]
  },
  {
   "cell_type": "markdown",
   "id": "8afb07c5",
   "metadata": {},
   "source": [
    "### Example Combining Sequential Chains with Loading Documents\n",
    "![Sequential Chain Flow](./resources/test4.png)\n"
   ]
  },
  {
   "cell_type": "markdown",
   "id": "2cf1bc48",
   "metadata": {},
   "source": [
    "This is how our output shall look like "
   ]
  },
  {
   "cell_type": "code",
   "execution_count": 20,
   "id": "c2a77a5f",
   "metadata": {},
   "outputs": [
    {
     "data": {
      "text/markdown": [
       "The output should be a markdown code snippet formatted in the following schema, including the leading and trailing \"```json\" and \"```\":\n",
       "\n",
       "```json\n",
       "{\n",
       "\t\"name\": str  // name of the provider\n",
       "\t\"subscription_models\": str  // Different subscription models\n",
       "\t\"termination_policy\": str  // Notice period for the contract\n",
       "}\n",
       "```"
      ],
      "text/plain": [
       "<IPython.core.display.Markdown object>"
      ]
     },
     "metadata": {},
     "output_type": "display_data"
    }
   ],
   "source": [
    "subscription_models  = ResponseSchema(name=\"subscription_models\", \n",
    "                                description=\"Different subscription models\", type=\"str\")\n",
    "termination_policy = ResponseSchema(name=\"termination_policy\", \n",
    "                                description=\"Notice period for the contract\", type = \"str\")\n",
    "provider_name   = ResponseSchema(name=\"name\", description=\"name of the provider\", type = \"str\")\n",
    "output_scheme   = [provider_name, subscription_models, termination_policy]\n",
    "ouput_parser = StructuredOutputParser.from_response_schemas(output_scheme)\n",
    "format_instructions = ouput_parser.get_format_instructions()\n",
    "display(Markdown(format_instructions))"
   ]
  },
  {
   "cell_type": "code",
   "execution_count": 21,
   "id": "88c6ff42",
   "metadata": {},
   "outputs": [],
   "source": [
    "def extract_info_from_pdf(pdf_filename):\n",
    "    pdf_loader = PyPDFLoader(pdf_filename)\n",
    "    agb_pages = pdf_loader.load()\n",
    "    embeddings = OpenAIEmbeddings()\n",
    "    db = DocArrayInMemorySearch.from_documents(agb_pages, embedding=embeddings)\n",
    "\n",
    "    query = \"Was ist die kuendigungsfrist des Vertrags? \\\n",
    "      Was sind die moeglichen Mitgliedschaftsmodelle? \\\n",
    "      und wie heisst der Anbieter woher diese AGB stammen?\"\n",
    "\n",
    "    prompt_text = \"Translate the following text from \\\n",
    "      German to English: {to_be_translated}\"\n",
    "    \n",
    "    format_text = \"Extract the name of the provider, \\\n",
    "    the subscription models and notice period from this text inscribed by ''' \\\n",
    "    '''{translated_text}'''. \\\n",
    "    {format_instructions}\"\n",
    "\n",
    "    translate_prompt = ChatPromptTemplate.from_template(prompt_text)\n",
    "    format_prompt = ChatPromptTemplate.from_template(format_text)\n",
    "\n",
    "    retrieval_chain = RetrievalQA.from_chain_type(chain_type=\"stuff\", llm=llm4, retriever = db.as_retriever(),                                       output_key=\"to_be_translated\")\n",
    "    translate_chain = LLMChain(llm=llm, prompt=translate_prompt, output_key=\"translated_text\", verbose=True)\n",
    "    format_chain = LLMChain(llm=llm, prompt=format_prompt, verbose=True, output_key=\"main_output\")\n",
    "\n",
    "    fetch_translate_chain_reg = SequentialChain(chains=[retrieval_chain, translate_chain, format_chain], \n",
    "                                            input_variables=[\"query\", \"format_instructions\"], \n",
    "                                            output_variables=[\"to_be_translated\", \"translated_text\", \"main_output\"], \n",
    "                                            verbose=True)\n",
    "\n",
    "    input_dict = {\n",
    "    'query': query,  \n",
    "    'format_instructions': format_instructions \n",
    "    }\n",
    "\n",
    "    ai_response_mix = fetch_translate_chain_reg(input_dict)\n",
    "    parsed_output = ouput_parser.parse(ai_response_mix['main_output'])\n",
    "    return parsed_output"
   ]
  },
  {
   "cell_type": "markdown",
   "id": "40bd97dd",
   "metadata": {},
   "source": [
    "#### Calling the above defined methond for a number of input documents"
   ]
  },
  {
   "cell_type": "code",
   "execution_count": 22,
   "id": "35872bf3",
   "metadata": {},
   "outputs": [
    {
     "name": "stdout",
     "output_type": "stream",
     "text": [
      "\n",
      "\n",
      "\u001b[1m> Entering new SequentialChain chain...\u001b[0m\n",
      "\n",
      "\n",
      "\u001b[1m> Entering new LLMChain chain...\u001b[0m\n",
      "Prompt after formatting:\n",
      "\u001b[32;1m\u001b[1;3mHuman: Translate the following text from       German to English: Die Kündigungsfrist des Vertrags ist auf dem Vertragsdeckblatt angegeben. Nach Ende der Mindestlaufzeit kann der Vertrag von beiden Parteien jederzeit mit einer Frist von einem Monat gekündigt werden.\n",
      "\n",
      "Die möglichen Mitgliedschaftsmodelle sind nicht explizit in den bereitgestellten Informationen aufgeführt. Es wird jedoch auf Verträge mit Mindestvertragslaufzeit und Verträge ohne feste Vertragslaufzeit (sogenannte „Flex-Verträge“) hingewiesen.\n",
      "\n",
      "Der Anbieter, von dem diese Allgemeinen Geschäftsbedingungen stammen, ist die RSG Group GmbH.\u001b[0m\n",
      "\n",
      "\u001b[1m> Finished chain.\u001b[0m\n",
      "\n",
      "\n",
      "\u001b[1m> Entering new LLMChain chain...\u001b[0m\n",
      "Prompt after formatting:\n",
      "\u001b[32;1m\u001b[1;3mHuman: Extract the name of the provider,     the subscription models and notice period from this text inscribed by '''     '''The notice period of the contract is stated on the cover sheet of the contract. After the minimum term has expired, the contract can be terminated by both parties at any time with one month's notice.\n",
      "\n",
      "The possible membership models are not explicitly listed in the provided information. However, contracts with a minimum contract term and contracts without a fixed contract term (so-called \"flex contracts\") are mentioned.\n",
      "\n",
      "The provider of these general terms and conditions is RSG Group GmbH.'''.     The output should be a markdown code snippet formatted in the following schema, including the leading and trailing \"```json\" and \"```\":\n",
      "\n",
      "```json\n",
      "{\n",
      "\t\"name\": str  // name of the provider\n",
      "\t\"subscription_models\": str  // Different subscription models\n",
      "\t\"termination_policy\": str  // Notice period for the contract\n",
      "}\n",
      "```\u001b[0m\n",
      "\n",
      "\u001b[1m> Finished chain.\u001b[0m\n",
      "\n",
      "\u001b[1m> Finished chain.\u001b[0m\n",
      "\n",
      "\n",
      "\u001b[1m> Entering new SequentialChain chain...\u001b[0m\n",
      "\n",
      "\n",
      "\u001b[1m> Entering new LLMChain chain...\u001b[0m\n",
      "Prompt after formatting:\n",
      "\u001b[32;1m\u001b[1;3mHuman: Translate the following text from       German to English: Die Kündigungsfrist des Vertrags hängt von der Mindestlaufzeit ab. Für Verträge mit einer Mindestlaufzeit von 12 oder 24 Monaten kann das Mitglied frühestens zum Ablauf der Mindestlaufzeit unter Beachtung der Kündigungsfrist von einem Monat zum Monatsende kündigen. Für Verträge mit einer Mindestlaufzeit von 3 Monaten gilt das Gleiche. Nach Ablauf der Mindestlaufzeit wird die Mitgliedschaft in einen unbefristeten Mitgliedschaftsvertrag umgewandelt, der monatlich zum Monatsende gekündigt werden kann. Für Verträge, die vor dem 01.03.2022 abgeschlossen wurden, gilt eine Kündigungsfrist von 3 Monaten zum Laufzeitende.\n",
      "\n",
      "Die möglichen Mitgliedschaftsmodelle sind nicht explizit aufgeführt, aber es wird erwähnt, dass es Verträge mit Mindestlaufzeiten von 3, 12 und 24 Monaten gibt. Es gibt auch eine VIP-Mitgliedschaft (Abonnement) mit einer Mindestlaufzeit von 3 Monaten.\n",
      "\n",
      "Der Anbieter, von dem diese Allgemeinen Geschäftsbedingungen stammen, ist Holmes Place.\u001b[0m\n",
      "\n",
      "\u001b[1m> Finished chain.\u001b[0m\n",
      "\n",
      "\n",
      "\u001b[1m> Entering new LLMChain chain...\u001b[0m\n",
      "Prompt after formatting:\n",
      "\u001b[32;1m\u001b[1;3mHuman: Extract the name of the provider,     the subscription models and notice period from this text inscribed by '''     '''The notice period of the contract depends on the minimum term. For contracts with a minimum term of 12 or 24 months, the member can terminate the contract at the earliest upon expiry of the minimum term, subject to a notice period of one month to the end of the month. The same applies to contracts with a minimum term of 3 months. After the minimum term has expired, the membership will be converted into an indefinite membership contract, which can be terminated monthly to the end of the month. For contracts concluded before 01.03.2022, a notice period of 3 months to the end of the term applies.\n",
      "\n",
      "The possible membership models are not explicitly listed, but it is mentioned that there are contracts with minimum terms of 3, 12 and 24 months. There is also a VIP membership (subscription) with a minimum term of 3 months.\n",
      "\n",
      "The provider from whom these general terms and conditions originate is Holmes Place.'''.     The output should be a markdown code snippet formatted in the following schema, including the leading and trailing \"```json\" and \"```\":\n",
      "\n",
      "```json\n",
      "{\n",
      "\t\"name\": str  // name of the provider\n",
      "\t\"subscription_models\": str  // Different subscription models\n",
      "\t\"termination_policy\": str  // Notice period for the contract\n",
      "}\n",
      "```\u001b[0m\n",
      "\n",
      "\u001b[1m> Finished chain.\u001b[0m\n",
      "\n",
      "\u001b[1m> Finished chain.\u001b[0m\n",
      "\n",
      "\n",
      "\u001b[1m> Entering new SequentialChain chain...\u001b[0m\n",
      "\n",
      "\n",
      "\u001b[1m> Entering new LLMChain chain...\u001b[0m\n",
      "Prompt after formatting:\n",
      "\u001b[32;1m\u001b[1;3mHuman: Translate the following text from       German to English: Die bereitgestellten Informationen enthalten keine spezifischen Details zur Kündigungsfrist des Vertrags oder zu den möglichen Mitgliedschaftsmodellen. Der Anbieter, von dem diese Allgemeinen Geschäftsbedingungen stammen, ist FitX.\u001b[0m\n",
      "\n",
      "\u001b[1m> Finished chain.\u001b[0m\n",
      "\n",
      "\n",
      "\u001b[1m> Entering new LLMChain chain...\u001b[0m\n",
      "Prompt after formatting:\n",
      "\u001b[32;1m\u001b[1;3mHuman: Extract the name of the provider,     the subscription models and notice period from this text inscribed by '''     '''The provided information does not contain specific details regarding the termination notice period of the contract or the possible membership models. The provider from whom these general terms and conditions originate is FitX.'''.     The output should be a markdown code snippet formatted in the following schema, including the leading and trailing \"```json\" and \"```\":\n",
      "\n",
      "```json\n",
      "{\n",
      "\t\"name\": str  // name of the provider\n",
      "\t\"subscription_models\": str  // Different subscription models\n",
      "\t\"termination_policy\": str  // Notice period for the contract\n",
      "}\n",
      "```\u001b[0m\n",
      "\n",
      "\u001b[1m> Finished chain.\u001b[0m\n",
      "\n",
      "\u001b[1m> Finished chain.\u001b[0m\n",
      "\n",
      "\n",
      "\u001b[1m> Entering new SequentialChain chain...\u001b[0m\n",
      "\n",
      "\n",
      "\u001b[1m> Entering new LLMChain chain...\u001b[0m\n",
      "Prompt after formatting:\n",
      "\u001b[32;1m\u001b[1;3mHuman: Translate the following text from       German to English: Die Kündigungsfrist für den Vertrag beträgt einen Monat. Dies gilt sowohl für das Classic 60 Mitgliedschaftsmodell als auch für das Feel Free Mitgliedschaftsmodell. Beide Modelle verlängern sich automatisch auf unbestimmte Zeit, es sei denn, das Mitglied hat den Vertrag mit einer Frist von einem Monat zum Ende der anfänglichen Vertragslaufzeit gekündigt. \n",
      "\n",
      "Die möglichen Mitgliedschaftsmodelle sind das Classic 60 Mitgliedschaftsmodell und das Feel Free Mitgliedschaftsmodell. Es gibt auch ein Ticket-Mitgliedschaftsmodell, einschließlich eines Special Ticket-Mitgliedschaftsmodells.\n",
      "\n",
      "Der Anbieter, von dem diese Allgemeinen Geschäftsbedingungen stammen, heißt FITSEVENELEVEN.\u001b[0m\n",
      "\n",
      "\u001b[1m> Finished chain.\u001b[0m\n",
      "\n",
      "\n",
      "\u001b[1m> Entering new LLMChain chain...\u001b[0m\n",
      "Prompt after formatting:\n",
      "\u001b[32;1m\u001b[1;3mHuman: Extract the name of the provider,     the subscription models and notice period from this text inscribed by '''     '''The notice period for the contract is one month. This applies to both the Classic 60 membership model and the Feel Free membership model. Both models automatically renew indefinitely unless the member has terminated the contract with one month's notice at the end of the initial contract period.\n",
      "\n",
      "The possible membership models are the Classic 60 membership model and the Feel Free membership model. There is also a ticket membership model, including a special ticket membership model.\n",
      "\n",
      "The provider from whom these general terms and conditions originate is called FITSEVENELEVEN.'''.     The output should be a markdown code snippet formatted in the following schema, including the leading and trailing \"```json\" and \"```\":\n",
      "\n",
      "```json\n",
      "{\n",
      "\t\"name\": str  // name of the provider\n",
      "\t\"subscription_models\": str  // Different subscription models\n",
      "\t\"termination_policy\": str  // Notice period for the contract\n",
      "}\n",
      "```\u001b[0m\n",
      "\n",
      "\u001b[1m> Finished chain.\u001b[0m\n",
      "\n",
      "\u001b[1m> Finished chain.\u001b[0m\n",
      "\n",
      "\n",
      "\u001b[1m> Entering new SequentialChain chain...\u001b[0m\n",
      "\n",
      "\n",
      "\u001b[1m> Entering new LLMChain chain...\u001b[0m\n",
      "Prompt after formatting:\n",
      "\u001b[32;1m\u001b[1;3mHuman: Translate the following text from       German to English: Die Kündigungsfrist des Vertrags beträgt einen Monat vor Ablauf der ausgewählten Vertragslaufzeit. Wenn der Vertrag nicht gekündigt wird, verlängert er sich auf unbestimmte Zeit und kann dann jederzeit mit einer Frist von einem Monat gekündigt werden.\n",
      "\n",
      "Die möglichen Mitgliedschaftsmodelle sind \"Economy\", \"Basic\" und \"Flex\". \n",
      "\n",
      "Der Anbieter, von dem diese Allgemeinen Geschäftsbedingungen stammen, ist terra sports.\u001b[0m\n",
      "\n",
      "\u001b[1m> Finished chain.\u001b[0m\n",
      "\n",
      "\n",
      "\u001b[1m> Entering new LLMChain chain...\u001b[0m\n",
      "Prompt after formatting:\n",
      "\u001b[32;1m\u001b[1;3mHuman: Extract the name of the provider,     the subscription models and notice period from this text inscribed by '''     '''The notice period for termination of the contract is one month before the selected contract term expires. If the contract is not terminated, it will be extended indefinitely and can be terminated at any time with one month's notice.\n",
      "\n",
      "The possible membership models are \"Economy\", \"Basic\" and \"Flex\".\n",
      "\n",
      "The provider from whom these general terms and conditions originate is terra sports.'''.     The output should be a markdown code snippet formatted in the following schema, including the leading and trailing \"```json\" and \"```\":\n",
      "\n",
      "```json\n",
      "{\n",
      "\t\"name\": str  // name of the provider\n",
      "\t\"subscription_models\": str  // Different subscription models\n",
      "\t\"termination_policy\": str  // Notice period for the contract\n",
      "}\n",
      "```\u001b[0m\n",
      "\n",
      "\u001b[1m> Finished chain.\u001b[0m\n",
      "\n",
      "\u001b[1m> Finished chain.\u001b[0m\n",
      "\n",
      "\n",
      "\u001b[1m> Entering new SequentialChain chain...\u001b[0m\n",
      "\n",
      "\n",
      "\u001b[1m> Entering new LLMChain chain...\u001b[0m\n",
      "Prompt after formatting:\n",
      "\u001b[32;1m\u001b[1;3mHuman: Translate the following text from       German to English: Die Kündigungsfrist des Vertrags beträgt 4 Wochen vor dem jeweiligen Beendigungszeitpunkt für Verträge mit einer Erstlaufzeit von 12 Wochen und 12 Wochen vor dem jeweiligen Beendigungszeitpunkt für Verträge mit einer Erstlaufzeit von 52 oder 104 Wochen. \n",
      "\n",
      "Die möglichen Mitgliedschaftsmodelle sind EMS, Milon & Five und Premium. EMS beinhaltet eine Trainingseinheit pro Woche, Milon & Five kann in Verbindung mit einem Transponder genutzt werden und Premium kombiniert die Leistungen von EMS und Milon & Five.\n",
      "\n",
      "Der Anbieter, von dem diese Allgemeinen Geschäftsbedingungen stammen, ist Body Shape Fitness.\u001b[0m\n",
      "\n",
      "\u001b[1m> Finished chain.\u001b[0m\n",
      "\n",
      "\n",
      "\u001b[1m> Entering new LLMChain chain...\u001b[0m\n",
      "Prompt after formatting:\n",
      "\u001b[32;1m\u001b[1;3mHuman: Extract the name of the provider,     the subscription models and notice period from this text inscribed by '''     '''The notice period for termination of the contract is 4 weeks prior to the respective termination date for contracts with an initial term of 12 weeks and 12 weeks prior to the respective termination date for contracts with an initial term of 52 or 104 weeks.\n",
      "\n",
      "The possible membership models are EMS, Milon & Five, and Premium. EMS includes one training session per week, Milon & Five can be used in conjunction with a transponder, and Premium combines the services of EMS and Milon & Five.\n",
      "\n",
      "The provider from whom these general terms and conditions originate is Body Shape Fitness.'''.     The output should be a markdown code snippet formatted in the following schema, including the leading and trailing \"```json\" and \"```\":\n",
      "\n",
      "```json\n",
      "{\n",
      "\t\"name\": str  // name of the provider\n",
      "\t\"subscription_models\": str  // Different subscription models\n",
      "\t\"termination_policy\": str  // Notice period for the contract\n",
      "}\n",
      "```\u001b[0m\n",
      "\n",
      "\u001b[1m> Finished chain.\u001b[0m\n",
      "\n",
      "\u001b[1m> Finished chain.\u001b[0m\n",
      "\n",
      "\n",
      "\u001b[1m> Entering new SequentialChain chain...\u001b[0m\n",
      "\n",
      "\n",
      "\u001b[1m> Entering new LLMChain chain...\u001b[0m\n",
      "Prompt after formatting:\n",
      "\u001b[32;1m\u001b[1;3mHuman: Translate the following text from       German to English: Die Kündigungsfrist des Vertrags beträgt einen Monat vor Ablauf der Mindestlaufzeit. Nach Ende der Mindestlaufzeit kann der Vertrag jederzeit mit einer Frist von einem Monat gekündigt werden. \n",
      "\n",
      "Die verschiedenen Mitgliedschaftsmodelle werden in dem Text nicht spezifisch genannt. Es wird jedoch erwähnt, dass der Kunde zwischen verschiedenen Paketen wählen kann, deren Preise auf der Website von jumpers fitness abrufbar sind.\n",
      "\n",
      "Der Anbieter, von dem diese AGB stammen, ist die jumpers fitness GmbH.\u001b[0m\n",
      "\n",
      "\u001b[1m> Finished chain.\u001b[0m\n",
      "\n",
      "\n",
      "\u001b[1m> Entering new LLMChain chain...\u001b[0m\n",
      "Prompt after formatting:\n",
      "\u001b[32;1m\u001b[1;3mHuman: Extract the name of the provider,     the subscription models and notice period from this text inscribed by '''     '''The notice period for termination of the contract is one month before the minimum term expires. After the minimum term has ended, the contract can be terminated at any time with one month's notice.\n",
      "\n",
      "The various membership models are not specifically named in the text. However, it is mentioned that the customer can choose between different packages, whose prices can be found on the website of jumpers fitness.\n",
      "\n",
      "The provider from whom these terms and conditions originate is jumpers fitness GmbH.'''.     The output should be a markdown code snippet formatted in the following schema, including the leading and trailing \"```json\" and \"```\":\n",
      "\n",
      "```json\n",
      "{\n",
      "\t\"name\": str  // name of the provider\n",
      "\t\"subscription_models\": str  // Different subscription models\n",
      "\t\"termination_policy\": str  // Notice period for the contract\n",
      "}\n",
      "```\u001b[0m\n",
      "\n",
      "\u001b[1m> Finished chain.\u001b[0m\n",
      "\n",
      "\u001b[1m> Finished chain.\u001b[0m\n",
      "[{'name': 'RSG Group GmbH', 'subscription_models': 'Contracts with a minimum contract term and contracts without a fixed contract term (so-called \"flex contracts\")', 'termination_policy': \"After the minimum term has expired, the contract can be terminated by both parties at any time with one month's notice.\"}, {'name': 'Holmes Place', 'subscription_models': 'Contracts with minimum terms of 3, 12 and 24 months, as well as a VIP membership with a minimum term of 3 months.', 'termination_policy': 'For contracts with a minimum term of 12 or 24 months, the member can terminate the contract at the earliest upon expiry of the minimum term, subject to a notice period of one month to the end of the month. The same applies to contracts with a minimum term of 3 months. After the minimum term has expired, the membership will be converted into an indefinite membership contract, which can be terminated monthly to the end of the month. For contracts concluded before 01.03.2022, a notice period of 3 months to the end of the term applies.'}, {'name': 'FitX', 'subscription_models': 'Not specified', 'termination_policy': 'Not specified'}, {'name': 'FITSEVENELEVEN', 'subscription_models': 'Classic 60 membership model and Feel Free membership model', 'termination_policy': 'One month'}, {'name': 'terra sports', 'subscription_models': 'Economy, Basic, Flex', 'termination_policy': 'One month before the selected contract term expires'}, {'name': 'Body Shape Fitness', 'subscription_models': 'EMS, Milon & Five, Premium', 'termination_policy': '4 weeks prior to termination date for 12-week contracts, 12 weeks prior to termination date for 52 or 104-week contracts'}, {'name': 'jumpers fitness GmbH', 'subscription_models': 'The various membership models are not specifically named in the text.', 'termination_policy': \"The notice period for termination of the contract is one month before the minimum term expires. After the minimum term has ended, the contract can be terminated at any time with one month's notice.\"}]\n",
      "                   name                                subscription_models  \\\n",
      "0        RSG Group GmbH  Contracts with a minimum contract term and con...   \n",
      "1          Holmes Place  Contracts with minimum terms of 3, 12 and 24 m...   \n",
      "2                  FitX                                      Not specified   \n",
      "3        FITSEVENELEVEN  Classic 60 membership model and Feel Free memb...   \n",
      "4          terra sports                               Economy, Basic, Flex   \n",
      "5    Body Shape Fitness                         EMS, Milon & Five, Premium   \n",
      "6  jumpers fitness GmbH  The various membership models are not specific...   \n",
      "\n",
      "                                  termination_policy  \n",
      "0  After the minimum term has expired, the contra...  \n",
      "1  For contracts with a minimum term of 12 or 24 ...  \n",
      "2                                      Not specified  \n",
      "3                                          One month  \n",
      "4  One month before the selected contract term ex...  \n",
      "5  4 weeks prior to termination date for 12-week ...  \n",
      "6  The notice period for termination of the contr...  \n"
     ]
    }
   ],
   "source": [
    "gym_data = []\n",
    "for i in range(1,8):\n",
    "    filename = './resources/AGB{}.pdf'.format(i)\n",
    "    curr_response = extract_info_from_pdf(filename)\n",
    "    gym_data.append(curr_response)\n",
    "\n",
    "print(gym_data)\n",
    "dataFrame = pd.DataFrame(gym_data)\n",
    "print(dataFrame)\n",
    "dataFrame.to_csv('all_providers.csv', index=False)"
   ]
  },
  {
   "cell_type": "markdown",
   "id": "eab8bc50",
   "metadata": {},
   "source": [
    "#### Visualizing some entries of the output csv document as a pandas dataframe"
   ]
  },
  {
   "cell_type": "code",
   "execution_count": 23,
   "id": "3d02def1",
   "metadata": {},
   "outputs": [
    {
     "data": {
      "text/html": [
       "<div>\n",
       "<style scoped>\n",
       "    .dataframe tbody tr th:only-of-type {\n",
       "        vertical-align: middle;\n",
       "    }\n",
       "\n",
       "    .dataframe tbody tr th {\n",
       "        vertical-align: top;\n",
       "    }\n",
       "\n",
       "    .dataframe thead th {\n",
       "        text-align: right;\n",
       "    }\n",
       "</style>\n",
       "<table border=\"1\" class=\"dataframe\">\n",
       "  <thead>\n",
       "    <tr style=\"text-align: right;\">\n",
       "      <th></th>\n",
       "      <th>name</th>\n",
       "      <th>subscription_models</th>\n",
       "      <th>termination_policy</th>\n",
       "    </tr>\n",
       "  </thead>\n",
       "  <tbody>\n",
       "    <tr>\n",
       "      <th>0</th>\n",
       "      <td>RSG Group GmbH</td>\n",
       "      <td>Contracts with a minimum contract term and con...</td>\n",
       "      <td>After the minimum term has expired, the contra...</td>\n",
       "    </tr>\n",
       "    <tr>\n",
       "      <th>1</th>\n",
       "      <td>Holmes Place</td>\n",
       "      <td>Contracts with minimum terms of 3, 12 and 24 m...</td>\n",
       "      <td>For contracts with a minimum term of 12 or 24 ...</td>\n",
       "    </tr>\n",
       "    <tr>\n",
       "      <th>2</th>\n",
       "      <td>FitX</td>\n",
       "      <td>Not specified</td>\n",
       "      <td>Not specified</td>\n",
       "    </tr>\n",
       "    <tr>\n",
       "      <th>3</th>\n",
       "      <td>FITSEVENELEVEN</td>\n",
       "      <td>Classic 60 membership model and Feel Free memb...</td>\n",
       "      <td>One month</td>\n",
       "    </tr>\n",
       "    <tr>\n",
       "      <th>4</th>\n",
       "      <td>terra sports</td>\n",
       "      <td>Economy, Basic, Flex</td>\n",
       "      <td>One month before the selected contract term ex...</td>\n",
       "    </tr>\n",
       "  </tbody>\n",
       "</table>\n",
       "</div>"
      ],
      "text/plain": [
       "             name                                subscription_models  \\\n",
       "0  RSG Group GmbH  Contracts with a minimum contract term and con...   \n",
       "1    Holmes Place  Contracts with minimum terms of 3, 12 and 24 m...   \n",
       "2            FitX                                      Not specified   \n",
       "3  FITSEVENELEVEN  Classic 60 membership model and Feel Free memb...   \n",
       "4    terra sports                               Economy, Basic, Flex   \n",
       "\n",
       "                                  termination_policy  \n",
       "0  After the minimum term has expired, the contra...  \n",
       "1  For contracts with a minimum term of 12 or 24 ...  \n",
       "2                                      Not specified  \n",
       "3                                          One month  \n",
       "4  One month before the selected contract term ex...  "
      ]
     },
     "execution_count": 23,
     "metadata": {},
     "output_type": "execute_result"
    }
   ],
   "source": [
    "df = pd.read_csv('all_providers.csv')\n",
    "df.head()"
   ]
  },
  {
   "cell_type": "markdown",
   "id": "1c06b046",
   "metadata": {},
   "source": [
    "### Using Agents with Langchain"
   ]
  },
  {
   "cell_type": "code",
   "execution_count": 24,
   "id": "09497f58",
   "metadata": {},
   "outputs": [
    {
     "data": {
      "text/html": [
       "<div>\n",
       "<style scoped>\n",
       "    .dataframe tbody tr th:only-of-type {\n",
       "        vertical-align: middle;\n",
       "    }\n",
       "\n",
       "    .dataframe tbody tr th {\n",
       "        vertical-align: top;\n",
       "    }\n",
       "\n",
       "    .dataframe thead th {\n",
       "        text-align: right;\n",
       "    }\n",
       "</style>\n",
       "<table border=\"1\" class=\"dataframe\">\n",
       "  <thead>\n",
       "    <tr style=\"text-align: right;\">\n",
       "      <th></th>\n",
       "      <th>ID</th>\n",
       "      <th>Product</th>\n",
       "      <th>Year</th>\n",
       "      <th>City</th>\n",
       "      <th>impression</th>\n",
       "      <th>clicks</th>\n",
       "      <th>Price per unit</th>\n",
       "      <th>units_sold</th>\n",
       "      <th>Total sale amount</th>\n",
       "    </tr>\n",
       "  </thead>\n",
       "  <tbody>\n",
       "    <tr>\n",
       "      <th>0</th>\n",
       "      <td>1</td>\n",
       "      <td>Garden Table</td>\n",
       "      <td>2022</td>\n",
       "      <td>Lisbon</td>\n",
       "      <td>1632</td>\n",
       "      <td>301</td>\n",
       "      <td>200</td>\n",
       "      <td>1</td>\n",
       "      <td>200</td>\n",
       "    </tr>\n",
       "    <tr>\n",
       "      <th>1</th>\n",
       "      <td>2</td>\n",
       "      <td>Garden Table</td>\n",
       "      <td>2020</td>\n",
       "      <td>Lisbon</td>\n",
       "      <td>2428</td>\n",
       "      <td>341</td>\n",
       "      <td>200</td>\n",
       "      <td>3</td>\n",
       "      <td>600</td>\n",
       "    </tr>\n",
       "    <tr>\n",
       "      <th>2</th>\n",
       "      <td>3</td>\n",
       "      <td>Garden Table</td>\n",
       "      <td>2021</td>\n",
       "      <td>Amsterdam</td>\n",
       "      <td>1895</td>\n",
       "      <td>328</td>\n",
       "      <td>200</td>\n",
       "      <td>6</td>\n",
       "      <td>1200</td>\n",
       "    </tr>\n",
       "    <tr>\n",
       "      <th>3</th>\n",
       "      <td>4</td>\n",
       "      <td>Garden Table</td>\n",
       "      <td>2023</td>\n",
       "      <td>Berlin</td>\n",
       "      <td>1678</td>\n",
       "      <td>374</td>\n",
       "      <td>200</td>\n",
       "      <td>3</td>\n",
       "      <td>600</td>\n",
       "    </tr>\n",
       "    <tr>\n",
       "      <th>4</th>\n",
       "      <td>5</td>\n",
       "      <td>Garden Table</td>\n",
       "      <td>2023</td>\n",
       "      <td>Amsterdam</td>\n",
       "      <td>1429</td>\n",
       "      <td>328</td>\n",
       "      <td>200</td>\n",
       "      <td>3</td>\n",
       "      <td>600</td>\n",
       "    </tr>\n",
       "  </tbody>\n",
       "</table>\n",
       "</div>"
      ],
      "text/plain": [
       "   ID       Product  Year       City  impression  clicks  Price per unit  \\\n",
       "0   1  Garden Table  2022     Lisbon        1632     301             200   \n",
       "1   2  Garden Table  2020     Lisbon        2428     341             200   \n",
       "2   3  Garden Table  2021  Amsterdam        1895     328             200   \n",
       "3   4  Garden Table  2023     Berlin        1678     374             200   \n",
       "4   5  Garden Table  2023  Amsterdam        1429     328             200   \n",
       "\n",
       "   units_sold  Total sale amount  \n",
       "0           1                200  \n",
       "1           3                600  \n",
       "2           6               1200  \n",
       "3           3                600  \n",
       "4           3                600  "
      ]
     },
     "execution_count": 24,
     "metadata": {},
     "output_type": "execute_result"
    }
   ],
   "source": [
    "import pandas as pd\n",
    "from langchain.agents import create_pandas_dataframe_agent\n",
    "from langchain.document_loaders import DataFrameLoader\n",
    "df = pd.read_csv('./resources/encrypted_demo_data.csv')\n",
    "df.head()\n",
    "\n"
   ]
  },
  {
   "cell_type": "code",
   "execution_count": 25,
   "id": "d3e905bb",
   "metadata": {},
   "outputs": [],
   "source": [
    "pandas_agent = create_pandas_dataframe_agent(llm4, df, verbose=False)"
   ]
  },
  {
   "cell_type": "code",
   "execution_count": 26,
   "id": "aaf5788f",
   "metadata": {},
   "outputs": [],
   "source": [
    "from langchain.agents import create_csv_agent\n",
    "csv_agent = create_csv_agent(llm4,\"./resources/encrypted_demo_data.csv\", verbose=True)"
   ]
  },
  {
   "cell_type": "code",
   "execution_count": 27,
   "id": "3f48569e",
   "metadata": {},
   "outputs": [
    {
     "name": "stdout",
     "output_type": "stream",
     "text": [
      "\n",
      "\n",
      "\u001b[1m> Entering new AgentExecutor chain...\u001b[0m\n",
      "\u001b[32;1m\u001b[1;3mThought: To find the year with the most clicks, I need to group the data by year and sum the clicks for each year. Then, I can find the year with the maximum sum of clicks.\n",
      "Action: python_repl_ast\n",
      "Action Input: df.groupby('Year')['clicks'].sum().idxmax()\u001b[0m\n",
      "Observation: \u001b[36;1m\u001b[1;3m2023\u001b[0m\n",
      "Thought:\u001b[32;1m\u001b[1;3mI now know the final answer.\n",
      "Final Answer: The year with the most clicks was 2023.\u001b[0m\n",
      "\n",
      "\u001b[1m> Finished chain.\u001b[0m\n"
     ]
    },
    {
     "data": {
      "text/plain": [
       "'The year with the most clicks was 2023.'"
      ]
     },
     "execution_count": 27,
     "metadata": {},
     "output_type": "execute_result"
    }
   ],
   "source": [
    "csv_agent.run(\"What was the year with the most clicks?\")"
   ]
  },
  {
   "cell_type": "code",
   "execution_count": 28,
   "id": "51c712aa",
   "metadata": {},
   "outputs": [
    {
     "data": {
      "text/plain": [
       "'The number of clicks for 2023 is 10995.'"
      ]
     },
     "execution_count": 28,
     "metadata": {},
     "output_type": "execute_result"
    }
   ],
   "source": [
    "\n",
    "pandas_agent.run(\"What is the number of clicks for 2023?\")"
   ]
  },
  {
   "cell_type": "code",
   "execution_count": 29,
   "id": "a8b061d5",
   "metadata": {},
   "outputs": [
    {
     "name": "stdout",
     "output_type": "stream",
     "text": [
      "\n",
      "\n",
      "\u001b[1m> Entering new AgentExecutor chain...\u001b[0m\n",
      "\u001b[32;1m\u001b[1;3mThought: To find the difference between the highest number of clicks per year and the lowest number of clicks per year, I need to group the data by year and find the maximum and minimum number of clicks in each year. Then, I will subtract the minimum from the maximum to get the difference.\n",
      "Action: python_repl_ast\n",
      "Action Input: df.groupby('Year')['clicks'].max() - df.groupby('Year')['clicks'].min()\u001b[0m\n",
      "Observation: \u001b[36;1m\u001b[1;3mYear\n",
      "2020    133\n",
      "2021    133\n",
      "2022    147\n",
      "2023    139\n",
      "Name: clicks, dtype: int64\u001b[0m\n",
      "Thought:\u001b[32;1m\u001b[1;3mThe difference between the highest number of clicks per year and the lowest number of clicks per year is 133 for 2020, 133 for 2021, 147 for 2022, and 139 for 2023.\n",
      "Final Answer: The difference between the highest number of clicks per year and the lowest number of clicks per year is 133 for 2020, 133 for 2021, 147 for 2022, and 139 for 2023.\u001b[0m\n",
      "\n",
      "\u001b[1m> Finished chain.\u001b[0m\n"
     ]
    },
    {
     "data": {
      "text/plain": [
       "{'input': 'What is the difference between the highest number of     clicks per year and the lowest number of clicks per year?',\n",
       " 'output': 'The difference between the highest number of clicks per year and the lowest number of clicks per year is 133 for 2020, 133 for 2021, 147 for 2022, and 139 for 2023.'}"
      ]
     },
     "execution_count": 29,
     "metadata": {},
     "output_type": "execute_result"
    }
   ],
   "source": [
    "csv_agent(\"What is the difference between the highest number of \\\n",
    "    clicks per year and the lowest number of clicks per year?\")"
   ]
  },
  {
   "cell_type": "code",
   "execution_count": 30,
   "id": "5ad5579a",
   "metadata": {},
   "outputs": [
    {
     "name": "stdout",
     "output_type": "stream",
     "text": [
      "\n",
      "\n",
      "\u001b[1m> Entering new AgentExecutor chain...\u001b[0m\n",
      "\u001b[32;1m\u001b[1;3mThought: To find the standard deviation of the impressions, I can use the `std()` function on the 'impression' column of the dataframe.\n",
      "Action: python_repl_ast\n",
      "Action Input: df['impression'].std()\u001b[0m\n",
      "Observation: \u001b[36;1m\u001b[1;3m739.0727484081204\u001b[0m\n",
      "Thought:\u001b[32;1m\u001b[1;3mI now know the standard deviation of the impressions.\n",
      "Final Answer: The standard deviation of the impressions is approximately 739.07.\u001b[0m\n",
      "\n",
      "\u001b[1m> Finished chain.\u001b[0m\n"
     ]
    },
    {
     "data": {
      "text/plain": [
       "'The standard deviation of the impressions is approximately 739.07.'"
      ]
     },
     "execution_count": 30,
     "metadata": {},
     "output_type": "execute_result"
    }
   ],
   "source": [
    "csv_agent.run(\"What is the standard deviation of the impressions?\")"
   ]
  },
  {
   "cell_type": "code",
   "execution_count": 31,
   "id": "43a41d52",
   "metadata": {},
   "outputs": [],
   "source": [
    "import matplotlib\n"
   ]
  },
  {
   "cell_type": "code",
   "execution_count": 32,
   "id": "e652db3d",
   "metadata": {},
   "outputs": [
    {
     "name": "stdout",
     "output_type": "stream",
     "text": [
      "\n",
      "\n",
      "\u001b[1m> Entering new AgentExecutor chain...\u001b[0m\n",
      "\u001b[32;1m\u001b[1;3mThought: To find the year with the highest impression_clicks_funnel, I need to group the data by year and calculate the sum of clicks and impressions for each year. Then, I will calculate the ratio between these two sums for each year. Finally, I will find the year with the highest ratio. To plot the impression_clicks_funnel for all years, I can use the matplotlib library.\n",
      "Action: python_repl_ast\n",
      "Action Input: df.groupby('Year').sum()[['impression', 'clicks']]\u001b[0m\n",
      "Observation: \u001b[36;1m\u001b[1;3m      impression  clicks\n",
      "Year                    \n",
      "2020       48973    7750\n",
      "2021       55219    8727\n",
      "2022       44411    8205\n",
      "2023       56581   10995\u001b[0m\n",
      "Thought:\u001b[32;1m\u001b[1;3mI have the sum of impressions and clicks for each year. Now I will calculate the ratio between these two sums for each year.\n",
      "Action: python_repl_ast\n",
      "Action Input: df_yearly = df.groupby('Year').sum()[['impression', 'clicks']]\n",
      "df_yearly['impression_clicks_funnel'] = df_yearly['clicks'] / df_yearly['impression']\n",
      "df_yearly\u001b[0m\n",
      "Observation: \u001b[36;1m\u001b[1;3m      impression  clicks  impression_clicks_funnel\n",
      "Year                                              \n",
      "2020       48973    7750                  0.158250\n",
      "2021       55219    8727                  0.158043\n",
      "2022       44411    8205                  0.184752\n",
      "2023       56581   10995                  0.194323\u001b[0m\n",
      "Thought:\u001b[32;1m\u001b[1;3mI have calculated the impression_clicks_funnel for each year. Now I will find the year with the highest impression_clicks_funnel.\n",
      "Action: python_repl_ast\n",
      "Action Input: df_yearly['impression_clicks_funnel'].idxmax()\u001b[0m\n",
      "Observation: \u001b[36;1m\u001b[1;3m2023\u001b[0m\n",
      "Thought:\u001b[32;1m\u001b[1;3mThe year with the highest impression_clicks_funnel is 2023. Now I will plot the impression_clicks_funnel for all years in a bar chart.\n",
      "Action: python_repl_ast\n",
      "Action Input: import matplotlib.pyplot as plt\n",
      "\n",
      "df_yearly['impression_clicks_funnel'].plot(kind='bar')\n",
      "plt.title('Impression Clicks Funnel by Year')\n",
      "plt.xlabel('Year')\n",
      "plt.ylabel('Impression Clicks Funnel')\n",
      "plt.show()\u001b[0m"
     ]
    },
    {
     "data": {
      "image/png": "[encoded data removed]",
      "text/plain": [
       "<Figure size 640x480 with 1 Axes>"
      ]
     },
     "metadata": {},
     "output_type": "display_data"
    },
    {
     "name": "stdout",
     "output_type": "stream",
     "text": [
      "\n",
      "Observation: \u001b[36;1m\u001b[1;3m\u001b[0m\n",
      "Thought:\u001b[32;1m\u001b[1;3mI have successfully plotted the impression_clicks_funnel for all years in a bar chart. The chart shows that the impression_clicks_funnel has been increasing over the years, with 2023 having the highest value.\n",
      "Final Answer: The year with the highest impression_clicks_funnel is 2023.\u001b[0m\n",
      "\n",
      "\u001b[1m> Finished chain.\u001b[0m\n"
     ]
    },
    {
     "data": {
      "text/plain": [
       "{'input': 'If the impression_clicks_funnel for a given year     is the ratio between the sum of clicks and the sum of impressions in this year,         which year had the highest impression_clicks_funnel?             Please also plot the impression_clicks_funnel for all years in a bar chart',\n",
       " 'output': 'The year with the highest impression_clicks_funnel is 2023.'}"
      ]
     },
     "execution_count": 32,
     "metadata": {},
     "output_type": "execute_result"
    }
   ],
   "source": [
    "csv_agent(\"If the impression_clicks_funnel for a given year \\\n",
    "    is the ratio between the sum of clicks and the sum of impressions in this year, \\\n",
    "        which year had the highest impression_clicks_funnel? \\\n",
    "            Please also plot the impression_clicks_funnel for all years in a bar chart\")"
   ]
  }
 ],
 "metadata": {
  "kernelspec": {
   "display_name": "Python 3 (ipykernel)",
   "language": "python",
   "name": "python3"
  },
  "language_info": {
   "codemirror_mode": {
    "name": "ipython",
    "version": 3
   },
   "file_extension": ".py",
   "mimetype": "text/x-python",
   "name": "python",
   "nbconvert_exporter": "python",
   "pygments_lexer": "ipython3",
   "version": "3.9.17"
  }
 },
 "nbformat": 4,
 "nbformat_minor": 5
}
