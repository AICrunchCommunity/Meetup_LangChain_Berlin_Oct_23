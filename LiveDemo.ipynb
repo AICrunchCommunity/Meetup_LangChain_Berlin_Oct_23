{
 "cells": [
  {
   "cell_type": "markdown",
   "id": "80177bbb",
   "metadata": {},
   "source": [
    "# Introduction to langchain framework"
   ]
  },
  {
   "cell_type": "markdown",
   "id": "4ecff411",
   "metadata": {},
   "source": [
    "### Installing Langchain"
   ]
  },
  {
   "cell_type": "code",
   "execution_count": null,
   "id": "3c828cf3",
   "metadata": {},
   "outputs": [],
   "source": [
    "#!pip install langchain"
   ]
  },
  {
   "cell_type": "markdown",
   "id": "2e2fa00a",
   "metadata": {},
   "source": [
    "### Installing some relevant libararies in this walk-through"
   ]
  },
  {
   "cell_type": "code",
   "execution_count": 39,
   "id": "506c2377",
   "metadata": {},
   "outputs": [
    {
     "name": "stdout",
     "output_type": "stream",
     "text": [
      "Collecting matplotlib\n",
      "  Obtaining dependency information for matplotlib from https://files.pythonhosted.org/packages/4f/f7/a5d8ff9e9cfcaa31851a711db9844e95685927b3034e30388cd4a15aa669/matplotlib-3.8.0-cp39-cp39-macosx_10_12_x86_64.whl.metadata\n",
      "  Downloading matplotlib-3.8.0-cp39-cp39-macosx_10_12_x86_64.whl.metadata (5.8 kB)\n",
      "Collecting contourpy>=1.0.1 (from matplotlib)\n",
      "  Obtaining dependency information for contourpy>=1.0.1 from https://files.pythonhosted.org/packages/16/d9/8a15ff67fc27c65939e454512955e1b240ec75cd201d82e115b3b63ef76d/contourpy-1.1.1-cp39-cp39-macosx_10_9_x86_64.whl.metadata\n",
      "  Downloading contourpy-1.1.1-cp39-cp39-macosx_10_9_x86_64.whl.metadata (5.9 kB)\n",
      "Collecting cycler>=0.10 (from matplotlib)\n",
      "  Obtaining dependency information for cycler>=0.10 from https://files.pythonhosted.org/packages/e7/05/c19819d5e3d95294a6f5947fb9b9629efb316b96de511b418c53d245aae6/cycler-0.12.1-py3-none-any.whl.metadata\n",
      "  Downloading cycler-0.12.1-py3-none-any.whl.metadata (3.8 kB)\n",
      "Collecting fonttools>=4.22.0 (from matplotlib)\n",
      "  Obtaining dependency information for fonttools>=4.22.0 from https://files.pythonhosted.org/packages/49/de/e4bab99886cfb04b4b9d7feb465fcd3f58808ee2107647414d3343bf8dc6/fonttools-4.43.1-cp39-cp39-macosx_10_9_x86_64.whl.metadata\n",
      "  Downloading fonttools-4.43.1-cp39-cp39-macosx_10_9_x86_64.whl.metadata (152 kB)\n",
      "\u001b[2K     \u001b[90m━━━━━━━━━━━━━━━━━━━━━━━━━━━━━━━━━━━━━━━\u001b[0m \u001b[32m152.4/152.4 kB\u001b[0m \u001b[31m1.5 MB/s\u001b[0m eta \u001b[36m0:00:00\u001b[0ma \u001b[36m0:00:01\u001b[0m\n",
      "\u001b[?25hCollecting kiwisolver>=1.0.1 (from matplotlib)\n",
      "  Obtaining dependency information for kiwisolver>=1.0.1 from https://files.pythonhosted.org/packages/ef/da/e887802f34afb5806f139c71e6d5f20a9f33b2fccd7f9de771094f66ca5e/kiwisolver-1.4.5-cp39-cp39-macosx_10_9_x86_64.whl.metadata\n",
      "  Downloading kiwisolver-1.4.5-cp39-cp39-macosx_10_9_x86_64.whl.metadata (6.4 kB)\n",
      "Requirement already satisfied: numpy<2,>=1.21 in /Users/mahmoudmarei/opt/anaconda3/envs/openaienv/lib/python3.9/site-packages (from matplotlib) (1.26.0)\n",
      "Requirement already satisfied: packaging>=20.0 in /Users/mahmoudmarei/opt/anaconda3/envs/openaienv/lib/python3.9/site-packages (from matplotlib) (23.2)\n",
      "Collecting pillow>=6.2.0 (from matplotlib)\n",
      "  Obtaining dependency information for pillow>=6.2.0 from https://files.pythonhosted.org/packages/32/e4/c955de57d75aa73ebd65dd4cfe56bb3b806de85c1c791ae447af1ac7efc0/Pillow-10.0.1-cp39-cp39-macosx_10_10_x86_64.whl.metadata\n",
      "  Downloading Pillow-10.0.1-cp39-cp39-macosx_10_10_x86_64.whl.metadata (9.5 kB)\n",
      "Collecting pyparsing>=2.3.1 (from matplotlib)\n",
      "  Obtaining dependency information for pyparsing>=2.3.1 from https://files.pythonhosted.org/packages/39/92/8486ede85fcc088f1b3dba4ce92dd29d126fd96b0008ea213167940a2475/pyparsing-3.1.1-py3-none-any.whl.metadata\n",
      "  Downloading pyparsing-3.1.1-py3-none-any.whl.metadata (5.1 kB)\n",
      "Requirement already satisfied: python-dateutil>=2.7 in /Users/mahmoudmarei/opt/anaconda3/envs/openaienv/lib/python3.9/site-packages (from matplotlib) (2.8.2)\n",
      "Requirement already satisfied: importlib-resources>=3.2.0 in /Users/mahmoudmarei/opt/anaconda3/envs/openaienv/lib/python3.9/site-packages (from matplotlib) (6.1.0)\n",
      "Requirement already satisfied: zipp>=3.1.0 in /Users/mahmoudmarei/opt/anaconda3/envs/openaienv/lib/python3.9/site-packages (from importlib-resources>=3.2.0->matplotlib) (3.17.0)\n",
      "Requirement already satisfied: six>=1.5 in /Users/mahmoudmarei/opt/anaconda3/envs/openaienv/lib/python3.9/site-packages (from python-dateutil>=2.7->matplotlib) (1.16.0)\n",
      "Downloading matplotlib-3.8.0-cp39-cp39-macosx_10_12_x86_64.whl (7.6 MB)\n",
      "\u001b[2K   \u001b[90m━━━━━━━━━━━━━━━━━━━━━━━━━━━━━━━━━━━━━━━━\u001b[0m \u001b[32m7.6/7.6 MB\u001b[0m \u001b[31m4.4 MB/s\u001b[0m eta \u001b[36m0:00:00\u001b[0m00:01\u001b[0m00:01\u001b[0m\n",
      "\u001b[?25hDownloading contourpy-1.1.1-cp39-cp39-macosx_10_9_x86_64.whl (247 kB)\n",
      "\u001b[2K   \u001b[90m━━━━━━━━━━━━━━━━━━━━━━━━━━━━━━━━━━━━━━━━\u001b[0m \u001b[32m247.4/247.4 kB\u001b[0m \u001b[31m7.3 MB/s\u001b[0m eta \u001b[36m0:00:00\u001b[0m\n",
      "\u001b[?25hDownloading cycler-0.12.1-py3-none-any.whl (8.3 kB)\n",
      "Downloading fonttools-4.43.1-cp39-cp39-macosx_10_9_x86_64.whl (2.2 MB)\n",
      "\u001b[2K   \u001b[90m━━━━━━━━━━━━━━━━━━━━━━━━━━━━━━━━━━━━━━━━\u001b[0m \u001b[32m2.2/2.2 MB\u001b[0m \u001b[31m9.0 MB/s\u001b[0m eta \u001b[36m0:00:00\u001b[0m00:01\u001b[0m00:01\u001b[0mm\n",
      "\u001b[?25hDownloading kiwisolver-1.4.5-cp39-cp39-macosx_10_9_x86_64.whl (68 kB)\n",
      "\u001b[2K   \u001b[90m━━━━━━━━━━━━━━━━━━━━━━━━━━━━━━━━━━━━━━━━\u001b[0m \u001b[32m68.1/68.1 kB\u001b[0m \u001b[31m3.5 MB/s\u001b[0m eta \u001b[36m0:00:00\u001b[0m\n",
      "\u001b[?25hDownloading Pillow-10.0.1-cp39-cp39-macosx_10_10_x86_64.whl (3.7 MB)\n",
      "\u001b[2K   \u001b[90m━━━━━━━━━━━━━━━━━━━━━━━━━━━━━━━━━━━━━━━━\u001b[0m \u001b[32m3.7/3.7 MB\u001b[0m \u001b[31m10.3 MB/s\u001b[0m eta \u001b[36m0:00:00\u001b[0m00:01\u001b[0m00:01\u001b[0m\n",
      "\u001b[?25hDownloading pyparsing-3.1.1-py3-none-any.whl (103 kB)\n",
      "\u001b[2K   \u001b[90m━━━━━━━━━━━━━━━━━━━━━━━━━━━━━━━━━━━━━━━━\u001b[0m \u001b[32m103.1/103.1 kB\u001b[0m \u001b[31m6.7 MB/s\u001b[0m eta \u001b[36m0:00:00\u001b[0m\n",
      "\u001b[?25hInstalling collected packages: pyparsing, pillow, kiwisolver, fonttools, cycler, contourpy, matplotlib\n",
      "Successfully installed contourpy-1.1.1 cycler-0.12.1 fonttools-4.43.1 kiwisolver-1.4.5 matplotlib-3.8.0 pillow-10.0.1 pyparsing-3.1.1\n"
     ]
    }
   ],
   "source": [
    "#uncomment those lines if you donot have any of the following libraries installed\n",
    "#!pip install openai\n",
    "#!pip install tabulate \n",
    "#!pip install matplotlib\n"
   ]
  },
  {
   "cell_type": "code",
   "execution_count": 85,
   "id": "945c3b3c",
   "metadata": {},
   "outputs": [
    {
     "name": "stdout",
     "output_type": "stream",
     "text": [
      "3.9.17 (main, Jul  5 2023, 16:17:03) \n",
      "[Clang 14.0.6 ]\n"
     ]
    }
   ],
   "source": [
    "\n",
    "import os\n",
    "import sys\n",
    "# I have made mine based on python 3.9.17\n",
    "print(sys.version) \n",
    "\n",
    "sys.path.append('../..')\n",
    "\n",
    "from dotenv import load_dotenv, find_dotenv\n",
    " # read local .env file\n",
    "_ = load_dotenv(find_dotenv())\n"
   ]
  },
  {
   "cell_type": "markdown",
   "id": "921ada82",
   "metadata": {},
   "source": [
    "### Authenticate the access to OpenAI API\n",
    "- you need an account on OpenAI API in order to be able use the API. \n",
    "- When you register your account, you have some free credits to start with. \n",
    "- Afterwards you have to save the api key as an environment variable and load it to python as indicated here. \n",
    "- If you have troubles or questions with any of the steps, just ask Chat-GPT ;) "
   ]
  },
  {
   "cell_type": "code",
   "execution_count": 41,
   "id": "b6068fc2",
   "metadata": {},
   "outputs": [],
   "source": [
    "import openai\n",
    "openai.api_key  = os.environ['OPENAI_API_KEY']"
   ]
  },
  {
   "cell_type": "markdown",
   "id": "89517995",
   "metadata": {},
   "source": [
    "### Import relevant packages"
   ]
  },
  {
   "cell_type": "code",
   "execution_count": 43,
   "id": "8667da16",
   "metadata": {},
   "outputs": [],
   "source": [
    "from langchain.document_loaders import PyPDFLoader\n",
    "from langchain.document_loaders import CSVLoader\n",
    "from langchain.embeddings import OpenAIEmbeddings\n",
    "from langchain.vectorstores import DocArrayInMemorySearch\n",
    "from langchain.chat_models import ChatOpenAI\n",
    "from langchain.output_parsers import ResponseSchema\n",
    "from langchain.output_parsers import StructuredOutputParser\n",
    "from langchain.chains import LLMChain\n",
    "from langchain.chains import RetrievalQA\n",
    "from langchain.chains import SequentialChain\n",
    "from langchain.prompts import ChatPromptTemplate\n",
    "from IPython.display import display, Markdown, Latex\n"
   ]
  },
  {
   "cell_type": "markdown",
   "id": "7779ad03",
   "metadata": {},
   "source": [
    "### Simple Example\n",
    "Chat Models"
   ]
  },
  {
   "cell_type": "code",
   "execution_count": 619,
   "id": "f4f38421",
   "metadata": {},
   "outputs": [
    {
     "name": "stdout",
     "output_type": "stream",
     "text": [
      "content='Good morning! How can I assist you today?'\n"
     ]
    }
   ],
   "source": [
    "\n",
    "llm = ChatOpenAI(temperature=0.2, model_name=\"gpt-3.5-turbo-0301\")\n",
    "llm4 = ChatOpenAI(temperature=0.0, model_name=\"gpt-4\")\n",
    "\n",
    "\n",
    "from langchain.schema import AIMessage, HumanMessage, SystemMessage\n",
    "messages = [\n",
    "    HumanMessage(content=\"Good Morning!\")\n",
    "    ]\n",
    "ai_response = llm(messages)\n",
    "print(ai_response)"
   ]
  },
  {
   "cell_type": "markdown",
   "id": "75015205",
   "metadata": {},
   "source": [
    "![LLM Chain pipeline](./resources/llmChain.png)\n"
   ]
  },
  {
   "cell_type": "markdown",
   "id": "92cb4f3f",
   "metadata": {},
   "source": [
    "Create a Prompt template, where we can pass an input variable to the LLM query. \n",
    "The input variables here are:\n",
    "- language \n",
    "- The text to be translated "
   ]
  },
  {
   "cell_type": "code",
   "execution_count": 590,
   "id": "8264145a",
   "metadata": {},
   "outputs": [],
   "source": [
    "query = \"Translate the following text \\\n",
    "into {language}:  ' {toBeTranslated}' \"\n",
    "prompt = ChatPromptTemplate.from_template(query)"
   ]
  },
  {
   "cell_type": "code",
   "execution_count": 591,
   "id": "4b30128c",
   "metadata": {},
   "outputs": [
    {
     "data": {
      "text/plain": [
       "ChatPromptTemplate(input_variables=['language', 'toBeTranslated'], messages=[HumanMessagePromptTemplate(prompt=PromptTemplate(input_variables=['language', 'toBeTranslated'], template=\"Translate the following text into {language}:  ' {toBeTranslated}' \"))])"
      ]
     },
     "execution_count": 591,
     "metadata": {},
     "output_type": "execute_result"
    }
   ],
   "source": [
    "prompt"
   ]
  },
  {
   "cell_type": "markdown",
   "id": "4fef7926",
   "metadata": {},
   "source": [
    "Define our input to the template"
   ]
  },
  {
   "cell_type": "code",
   "execution_count": 592,
   "id": "7cd27375",
   "metadata": {},
   "outputs": [],
   "source": [
    "input_dict={\"language\": \"Swiss German\", \"toBeTranslated\": \"Let's grab a beer!\"}"
   ]
  },
  {
   "cell_type": "markdown",
   "id": "958ad5ae",
   "metadata": {},
   "source": [
    "Create a Chain and run it using the input"
   ]
  },
  {
   "cell_type": "code",
   "execution_count": 593,
   "id": "6ff4ac43",
   "metadata": {},
   "outputs": [],
   "source": [
    "llm_chain = LLMChain(prompt= prompt, llm=llm)\n",
    "#An LLM chain expects an input dictionary\n",
    "ai_response = llm_chain.run(input_dict)\n"
   ]
  },
  {
   "cell_type": "code",
   "execution_count": 596,
   "id": "208576fb",
   "metadata": {},
   "outputs": [
    {
     "data": {
      "text/plain": [
       "'\"Lueget mer en Bier!\"'"
      ]
     },
     "execution_count": 596,
     "metadata": {},
     "output_type": "execute_result"
    }
   ],
   "source": [
    "ai_response"
   ]
  },
  {
   "cell_type": "markdown",
   "id": "81c522f9",
   "metadata": {},
   "source": [
    "Another example can be seen here"
   ]
  },
  {
   "cell_type": "code",
   "execution_count": 97,
   "id": "95f09cb2",
   "metadata": {},
   "outputs": [
    {
     "data": {
      "text/markdown": [
       "Ingredients for Paella:\n",
       "\n",
       "- 2 cups of short-grain rice\n",
       "- 4 cups of chicken or vegetable broth\n",
       "- 1 pound of chicken thighs, cut into small pieces\n",
       "- 1 pound of chorizo sausage, sliced\n",
       "- 1 pound of shrimp, peeled and deveined\n",
       "- 1 onion, chopped\n",
       "- 4 cloves of garlic, minced\n",
       "- 1 red bell pepper, chopped\n",
       "- 1 green bell pepper, chopped\n",
       "- 1 cup of frozen peas\n",
       "- 1 teaspoon of smoked paprika\n",
       "- 1/2 teaspoon of saffron threads\n",
       "- Salt and pepper to taste\n",
       "- Olive oil for cooking\n",
       "\n",
       "Optional ingredients:\n",
       "\n",
       "- 1 can of diced tomatoes\n",
       "- 1/2 cup of white wine\n",
       "- 1 lemon, cut into wedges\n",
       "- Fresh parsley for garnish"
      ],
      "text/plain": [
       "<IPython.core.display.Markdown object>"
      ]
     },
     "metadata": {},
     "output_type": "display_data"
    }
   ],
   "source": [
    "\n",
    "query = \"Please tell me the ingredients I need for the recipe of {dish}?\"\n",
    "prompt = ChatPromptTemplate.from_template(query)\n",
    "simple_chain = LLMChain(llm=llm, prompt=prompt)\n",
    "input_dict = {\"dish\": \"Paella\"}\n",
    "ai_response = simple_chain.run(input_dict)\n",
    "display(Markdown(ai_response))"
   ]
  },
  {
   "cell_type": "markdown",
   "id": "7710c59f",
   "metadata": {},
   "source": [
    "### Using Simple Sequential Chains\n",
    "![Simple Sequential Chain](./resources/SSChain.png)\n"
   ]
  },
  {
   "cell_type": "code",
   "execution_count": 659,
   "id": "86f6144b",
   "metadata": {},
   "outputs": [],
   "source": [
    "from langchain.chains import SimpleSequentialChain\n",
    "prompt_str1 = \"Tell me the name of the calendar month of the year that comes in this position: {position}\"\n",
    "prompt_str2 = \"Translate the name of this month {month} into French\" \n",
    "prompt_str3 = \"Tell me in one word the name of the following month to {translated_month} in French\" #in this language{language}\"\n",
    "\n",
    "prompt1 = ChatPromptTemplate.from_template(prompt_str1)\n",
    "prompt2 = ChatPromptTemplate.from_template(prompt_str2)\n",
    "prompt3 = ChatPromptTemplate.from_template(prompt_str3)\n",
    "\n",
    "chain1 = LLMChain(llm=llm, prompt=prompt1)\n",
    "chain2 = LLMChain(llm=llm, prompt=prompt2)\n",
    "chain3 = LLMChain(llm=llm, prompt=prompt3)\n",
    "\n",
    "overall_chain = SimpleSequentialChain(\n",
    "    chains=[chain1, chain2, chain3],\n",
    "    verbose=True\n",
    ")\n",
    "\n",
    "input_dict = {\n",
    "    'position' : '2'\n",
    "}\n"
   ]
  },
  {
   "cell_type": "code",
   "execution_count": 660,
   "id": "90b1f88c",
   "metadata": {},
   "outputs": [
    {
     "name": "stdout",
     "output_type": "stream",
     "text": [
      "\n",
      "\n",
      "\u001b[1m> Entering new SimpleSequentialChain chain...\u001b[0m\n",
      "\u001b[36;1m\u001b[1;3mFebruary\u001b[0m\n",
      "\u001b[33;1m\u001b[1;3mFévrier\u001b[0m\n",
      "\u001b[38;5;200m\u001b[1;3mMars.\u001b[0m\n",
      "\n",
      "\u001b[1m> Finished chain.\u001b[0m\n"
     ]
    },
    {
     "data": {
      "text/plain": [
       "'Mars.'"
      ]
     },
     "execution_count": 660,
     "metadata": {},
     "output_type": "execute_result"
    }
   ],
   "source": [
    "overall_chain.run(input= input_dict)"
   ]
  },
  {
   "cell_type": "markdown",
   "id": "d02cf073",
   "metadata": {},
   "source": [
    "Now, what if one of the Chains has more than 1 input/output? \n",
    "### Sequential Chain "
   ]
  },
  {
   "cell_type": "code",
   "execution_count": 604,
   "id": "1bbfd7e1",
   "metadata": {},
   "outputs": [],
   "source": [
    "prompt_str1 = \"Tell me the name of the calendar month of the year that comes in this position: {position}\"\n",
    "prompt_str2 = \"Translate the name of this month {month} into this language {language}\" \n",
    "prompt_str3 = \"Tell me in one word the name of the following month to {translated_month} in {language}\" #in this language{language}\"\n",
    "\n",
    "prompt1 = ChatPromptTemplate.from_template(prompt_str1)\n",
    "prompt2 = ChatPromptTemplate.from_template(prompt_str2)\n",
    "prompt3 = ChatPromptTemplate.from_template(prompt_str3)\n",
    "\n",
    "chain1 = LLMChain(llm=llm, prompt=prompt1, output_key=\"month\")\n",
    "chain2 = LLMChain(llm=llm, prompt=prompt2, output_key=\"translated_month\")\n",
    "chain3 = LLMChain(llm=llm, prompt=prompt3, output_key=\"following_month\")\n",
    "\n",
    "overall_chain = SequentialChain(\n",
    "    chains=[chain1, chain2, chain3],\n",
    "    input_variables=[\"position\", \"language\"],\n",
    "    output_variables=[\"month\", \"translated_month\",\"following_month\"],\n",
    "    verbose=True\n",
    ")\n",
    "\n",
    "input_dict = {\n",
    "    'position' : '5',\n",
    "    'language' : 'German'\n",
    "}\n"
   ]
  },
  {
   "cell_type": "code",
   "execution_count": 605,
   "id": "cf4ea2b4",
   "metadata": {},
   "outputs": [
    {
     "name": "stdout",
     "output_type": "stream",
     "text": [
      "\n",
      "\n",
      "\u001b[1m> Entering new SequentialChain chain...\u001b[0m\n",
      "\n",
      "\u001b[1m> Finished chain.\u001b[0m\n"
     ]
    }
   ],
   "source": [
    "#call the simple sequential chain with the given input \n",
    "result = overall_chain(input_dict)\n"
   ]
  },
  {
   "cell_type": "code",
   "execution_count": 606,
   "id": "f2c46b59",
   "metadata": {},
   "outputs": [
    {
     "data": {
      "text/plain": [
       "'Juni.'"
      ]
     },
     "execution_count": 606,
     "metadata": {},
     "output_type": "execute_result"
    }
   ],
   "source": [
    "result['following_month']"
   ]
  },
  {
   "cell_type": "markdown",
   "id": "769aaca1",
   "metadata": {},
   "source": [
    "### Example for using external content and questioning them\n",
    "![Loading Documents Flow](./resources/loading1.png)\n",
    "\n",
    "List of available loaders in Langchain is listed here https://integrations.langchain.com/\n"
   ]
  },
  {
   "cell_type": "code",
   "execution_count": 125,
   "id": "816ca39b",
   "metadata": {},
   "outputs": [
    {
     "data": {
      "text/html": [
       "<div>\n",
       "<style scoped>\n",
       "    .dataframe tbody tr th:only-of-type {\n",
       "        vertical-align: middle;\n",
       "    }\n",
       "\n",
       "    .dataframe tbody tr th {\n",
       "        vertical-align: top;\n",
       "    }\n",
       "\n",
       "    .dataframe thead th {\n",
       "        text-align: right;\n",
       "    }\n",
       "</style>\n",
       "<table border=\"1\" class=\"dataframe\">\n",
       "  <thead>\n",
       "    <tr style=\"text-align: right;\">\n",
       "      <th></th>\n",
       "      <th>product_name;product_type;price</th>\n",
       "    </tr>\n",
       "  </thead>\n",
       "  <tbody>\n",
       "    <tr>\n",
       "      <th>0</th>\n",
       "      <td>Sony;Gaming Console;3499</td>\n",
       "    </tr>\n",
       "    <tr>\n",
       "      <th>1</th>\n",
       "      <td>Toshiba;Computer ;239</td>\n",
       "    </tr>\n",
       "    <tr>\n",
       "      <th>2</th>\n",
       "      <td>IBM;Computer ;240</td>\n",
       "    </tr>\n",
       "    <tr>\n",
       "      <th>3</th>\n",
       "      <td>Crash ;Video Game;50</td>\n",
       "    </tr>\n",
       "    <tr>\n",
       "      <th>4</th>\n",
       "      <td>FiFA;Video Game;40</td>\n",
       "    </tr>\n",
       "  </tbody>\n",
       "</table>\n",
       "</div>"
      ],
      "text/plain": [
       "  product_name;product_type;price\n",
       "0        Sony;Gaming Console;3499\n",
       "1           Toshiba;Computer ;239\n",
       "2               IBM;Computer ;240\n",
       "3            Crash ;Video Game;50\n",
       "4              FiFA;Video Game;40"
      ]
     },
     "execution_count": 125,
     "metadata": {},
     "output_type": "execute_result"
    }
   ],
   "source": [
    "import pandas as pd\n",
    "df = pd.read_csv('./resources/store.csv')\n",
    "df.head()"
   ]
  },
  {
   "cell_type": "code",
   "execution_count": 607,
   "id": "99ef45d6",
   "metadata": {},
   "outputs": [
    {
     "data": {
      "text/plain": [
       "'The sum of all the product prices is 3709.'"
      ]
     },
     "execution_count": 607,
     "metadata": {},
     "output_type": "execute_result"
    }
   ],
   "source": [
    "loader_csv = CSVLoader(file_path = './resources/store.csv')\n",
    "docs = loader_csv.load()\n",
    "embeddings = OpenAIEmbeddings()\n",
    "db = DocArrayInMemorySearch.from_documents(docs, embeddings)\n",
    "qa_chain = RetrievalQA.from_chain_type(llm=llm, chain_type=\"stuff\", retriever=db.as_retriever())\n",
    "qa_chain.run(query='What is the sum of all the product prices?',\n",
    "filter={\"source\":\"./resources/store.csv\"})"
   ]
  },
  {
   "cell_type": "markdown",
   "id": "8afb07c5",
   "metadata": {},
   "source": [
    "### Example Combining Sequential Chains with Loading Documents\n",
    "![Sequential Chain Flow](./resources/test4.png)\n"
   ]
  },
  {
   "cell_type": "markdown",
   "id": "2cf1bc48",
   "metadata": {},
   "source": [
    "This is how our output shall look like "
   ]
  },
  {
   "cell_type": "code",
   "execution_count": 651,
   "id": "c2a77a5f",
   "metadata": {},
   "outputs": [
    {
     "data": {
      "text/markdown": [
       "The output should be a markdown code snippet formatted in the following schema, including the leading and trailing \"```json\" and \"```\":\n",
       "\n",
       "```json\n",
       "{\n",
       "\t\"name\": str  // name of the provider\n",
       "\t\"subscription_models\": str  // Different subscription models\n",
       "\t\"termination_policy\": str  // Notice period for the contract\n",
       "}\n",
       "```"
      ],
      "text/plain": [
       "<IPython.core.display.Markdown object>"
      ]
     },
     "metadata": {},
     "output_type": "display_data"
    }
   ],
   "source": [
    "subscription_models  = ResponseSchema(name=\"subscription_models\", \n",
    "                                description=\"Different subscription models\", type=\"str\")\n",
    "termination_policy = ResponseSchema(name=\"termination_policy\", \n",
    "                                description=\"Notice period for the contract\", type = \"str\")\n",
    "provider_name   = ResponseSchema(name=\"name\", description=\"name of the provider\", type = \"str\")\n",
    "output_scheme   = [provider_name, subscription_models, termination_policy]\n",
    "ouput_parser = StructuredOutputParser.from_response_schemas(output_scheme)\n",
    "format_instructions = ouput_parser.get_format_instructions()\n",
    "display(Markdown(format_instructions))"
   ]
  },
  {
   "cell_type": "code",
   "execution_count": 654,
   "id": "88c6ff42",
   "metadata": {},
   "outputs": [],
   "source": [
    "def extract_info_from_pdf(pdf_filename):\n",
    "    pdf_loader = PyPDFLoader(pdf_filename)\n",
    "    agb_pages = pdf_loader.load()\n",
    "    embeddings = OpenAIEmbeddings()\n",
    "    db = DocArrayInMemorySearch.from_documents(agb_pages, embedding=embeddings)\n",
    "\n",
    "    query = \"Was ist die kuendigungsfrist des Vertrags? \\\n",
    "      Was sind die moeglichen Mitgliedschaftsmodelle? \\\n",
    "      und wie heisst der Anbieter woher diese AGB stammen?\"\n",
    "\n",
    "    prompt_text = \"Translate the following text from \\\n",
    "      German to English: {to_be_translated}\"\n",
    "    \n",
    "    format_text = \"Extract the name of the provider, \\\n",
    "    the subscription models and notice period from this text inscribed by ''' \\\n",
    "    '''{translated_text}'''. \\\n",
    "    {format_instructions}\"\n",
    "\n",
    "    translate_prompt = ChatPromptTemplate.from_template(prompt_text)\n",
    "    format_prompt = ChatPromptTemplate.from_template(format_text)\n",
    "\n",
    "    retrieval_chain = RetrievalQA.from_chain_type(chain_type=\"stuff\", llm=llm4, retriever = db.as_retriever(),                                       output_key=\"to_be_translated\")\n",
    "    translate_chain = LLMChain(llm=llm, prompt=translate_prompt, output_key=\"translated_text\", verbose=True)\n",
    "    format_chain = LLMChain(llm=llm, prompt=format_prompt, verbose=True, output_key=\"main_output\")\n",
    "\n",
    "    fetch_translate_chain_reg = SequentialChain(chains=[retrieval_chain, translate_chain, format_chain], \n",
    "                                            input_variables=[\"query\", \"format_instructions\"], \n",
    "                                            output_variables=[\"to_be_translated\", \"translated_text\", \"main_output\"], \n",
    "                                            verbose=True)\n",
    "\n",
    "    input_dict = {\n",
    "    'query': query,  \n",
    "    'format_instructions': format_instructions \n",
    "    }\n",
    "\n",
    "    ai_response_mix = fetch_translate_chain_reg(input_dict)\n",
    "    parsed_output = ouput_parser.parse(ai_response_mix['main_output'])\n",
    "    return parsed_output"
   ]
  },
  {
   "cell_type": "markdown",
   "id": "40bd97dd",
   "metadata": {},
   "source": [
    "#### Calling the above defined methond for a number of input documents"
   ]
  },
  {
   "cell_type": "code",
   "execution_count": 661,
   "id": "35872bf3",
   "metadata": {},
   "outputs": [
    {
     "name": "stdout",
     "output_type": "stream",
     "text": [
      "\n",
      "\n",
      "\u001b[1m> Entering new SequentialChain chain...\u001b[0m\n",
      "\n",
      "\n",
      "\u001b[1m> Entering new LLMChain chain...\u001b[0m\n",
      "Prompt after formatting:\n",
      "\u001b[32;1m\u001b[1;3mHuman: Translate the following text from       German to English: Die Kündigungsfrist des Vertrags ist auf dem Vertragsdeckblatt angegeben. Nach Ende der Mindestlaufzeit kann der Vertrag von beiden Parteien jederzeit mit einer Frist von einem Monat gekündigt werden.\n",
      "\n",
      "Die möglichen Mitgliedschaftsmodelle sind Verträge mit Mindestvertragslaufzeit und Verträge ohne feste Vertragslaufzeit, auch \"Flex-Verträge\" genannt. Bei Verträgen mit Mindestvertragslaufzeit hat der Vertrag zunächst die auf dem Vertragsdeckblatt angegebene Mindestvertragslaufzeit. Bei \"Flex-Verträgen\" gilt der Vertrag als unbefristet geschlossen und kann von beiden Vertragsparteien mit der auf dem Vertragsdeckblatt angegebenen Kündigungsfrist zum Ende einer monatlichen Trainingsperiode gekündigt werden.\n",
      "\n",
      "Der Anbieter, von dem diese AGB stammen, ist die RSG Group GmbH.\u001b[0m\n",
      "\n",
      "\u001b[1m> Finished chain.\u001b[0m\n",
      "\n",
      "\n",
      "\u001b[1m> Entering new LLMChain chain...\u001b[0m\n",
      "Prompt after formatting:\n",
      "\u001b[32;1m\u001b[1;3mHuman: Extract the name of the provider,     the subscription models and notice period from this text inscribed by '''     '''The notice period for termination of the contract is indicated on the contract cover sheet. After the minimum term has expired, the contract can be terminated by either party at any time with one month's notice.\n",
      "\n",
      "The possible membership models are contracts with a minimum contract term and contracts without a fixed contract term, also known as \"flex contracts\". With contracts with a minimum contract term, the contract initially has the minimum contract term indicated on the contract cover sheet. With \"flex contracts\", the contract is considered to be concluded indefinitely and can be terminated by both parties with the notice period indicated on the contract cover sheet at the end of a monthly training period.\n",
      "\n",
      "The provider from whom these terms and conditions originate is RSG Group GmbH.'''.     The output should be a markdown code snippet formatted in the following schema, including the leading and trailing \"```json\" and \"```\":\n",
      "\n",
      "```json\n",
      "{\n",
      "\t\"name\": str  // name of the provider\n",
      "\t\"subscription_models\": str  // Different subscription models\n",
      "\t\"termination_policy\": str  // Notice period for the contract\n",
      "}\n",
      "```\u001b[0m\n",
      "\n",
      "\u001b[1m> Finished chain.\u001b[0m\n",
      "\n",
      "\u001b[1m> Finished chain.\u001b[0m\n",
      "\n",
      "\n",
      "\u001b[1m> Entering new SequentialChain chain...\u001b[0m\n",
      "\n",
      "\n",
      "\u001b[1m> Entering new LLMChain chain...\u001b[0m\n",
      "Prompt after formatting:\n",
      "\u001b[32;1m\u001b[1;3mHuman: Translate the following text from       German to English: Die Kündigungsfrist des Vertrags hängt von der Mindestlaufzeit ab. Bei Verträgen mit einer Mindestlaufzeit von 12 oder 24 Monaten kann das Mitglied frühestens zum Ablauf der Mindestlaufzeit unter Beachtung der Kündigungsfrist von einem Monat zum Monatsende kündigen. Bei Verträgen mit einer Mindestlaufzeit von 3 Monaten ist die Kündigungsfrist ebenfalls ein Monat zum Monatsende. Für Verträge, die vor dem 01.03.2022 abgeschlossen wurden, gilt eine Kündigungsfrist von 3 Monaten zum Laufzeitende.\n",
      "\n",
      "Die Mitgliedschaftsmodelle sind nicht explizit aufgeführt, aber es wird erwähnt, dass es Verträge mit Mindestlaufzeiten von 3, 12 und 24 Monaten gibt. Nach Ablauf der Mindestlaufzeit wird die Mitgliedschaft in einen unbefristeten Mitgliedschaftsvertrag umgewandelt, der monatlich zum Monatsende gekündigt werden kann. Es gibt auch eine VIP-Mitgliedschaft (Abonnement) mit einer Mindestlaufzeit von 3 Monaten.\n",
      "\n",
      "Der Anbieter, von dem diese Allgemeinen Geschäftsbedingungen stammen, ist Holmes Place.\u001b[0m\n",
      "\n",
      "\u001b[1m> Finished chain.\u001b[0m\n",
      "\n",
      "\n",
      "\u001b[1m> Entering new LLMChain chain...\u001b[0m\n",
      "Prompt after formatting:\n",
      "\u001b[32;1m\u001b[1;3mHuman: Extract the name of the provider,     the subscription models and notice period from this text inscribed by '''     '''The notice period of the contract depends on the minimum term. For contracts with a minimum term of 12 or 24 months, the member can terminate the contract at the earliest upon expiry of the minimum term, subject to a notice period of one month to the end of the month. For contracts with a minimum term of 3 months, the notice period is also one month to the end of the month. For contracts concluded before 01.03.2022, a notice period of 3 months to the end of the term applies.\n",
      "\n",
      "The membership models are not explicitly listed, but it is mentioned that there are contracts with minimum terms of 3, 12, and 24 months. After the minimum term has expired, the membership is converted into an indefinite membership contract, which can be terminated monthly to the end of the month. There is also a VIP membership (subscription) with a minimum term of 3 months.\n",
      "\n",
      "The provider from whom these general terms and conditions originate is Holmes Place.'''.     The output should be a markdown code snippet formatted in the following schema, including the leading and trailing \"```json\" and \"```\":\n",
      "\n",
      "```json\n",
      "{\n",
      "\t\"name\": str  // name of the provider\n",
      "\t\"subscription_models\": str  // Different subscription models\n",
      "\t\"termination_policy\": str  // Notice period for the contract\n",
      "}\n",
      "```\u001b[0m\n",
      "\n",
      "\u001b[1m> Finished chain.\u001b[0m\n",
      "\n",
      "\u001b[1m> Finished chain.\u001b[0m\n",
      "\n",
      "\n",
      "\u001b[1m> Entering new SequentialChain chain...\u001b[0m\n",
      "\n",
      "\n",
      "\u001b[1m> Entering new LLMChain chain...\u001b[0m\n",
      "Prompt after formatting:\n",
      "\u001b[32;1m\u001b[1;3mHuman: Translate the following text from       German to English: Die bereitgestellten Informationen enthalten keine spezifischen Details zur Kündigungsfrist des Vertrags oder zu den verfügbaren Mitgliedschaftsmodellen. Der Anbieter, von dem diese Allgemeinen Geschäftsbedingungen (AGB) stammen, ist FitX.\u001b[0m\n",
      "\n",
      "\u001b[1m> Finished chain.\u001b[0m\n",
      "\n",
      "\n",
      "\u001b[1m> Entering new LLMChain chain...\u001b[0m\n",
      "Prompt after formatting:\n",
      "\u001b[32;1m\u001b[1;3mHuman: Extract the name of the provider,     the subscription models and notice period from this text inscribed by '''     '''The provided information does not contain specific details about the termination notice period of the contract or the available membership models. The provider from whom these general terms and conditions (GTC) originate is FitX.'''.     The output should be a markdown code snippet formatted in the following schema, including the leading and trailing \"```json\" and \"```\":\n",
      "\n",
      "```json\n",
      "{\n",
      "\t\"name\": str  // name of the provider\n",
      "\t\"subscription_models\": str  // Different subscription models\n",
      "\t\"termination_policy\": str  // Notice period for the contract\n",
      "}\n",
      "```\u001b[0m\n",
      "\n",
      "\u001b[1m> Finished chain.\u001b[0m\n",
      "\n",
      "\u001b[1m> Finished chain.\u001b[0m\n",
      "\n",
      "\n",
      "\u001b[1m> Entering new SequentialChain chain...\u001b[0m\n",
      "\n",
      "\n",
      "\u001b[1m> Entering new LLMChain chain...\u001b[0m\n",
      "Prompt after formatting:\n",
      "\u001b[32;1m\u001b[1;3mHuman: Translate the following text from       German to English: Die Kündigungsfrist für den Vertrag beträgt einen Monat zum Ende der anfänglichen Vertragslaufzeit. Die möglichen Mitgliedschaftsmodelle sind das Classic 60 Mitgliedsvertrag und das Feel Free Mitgliedsvertrag. Der Anbieter, von dem diese Allgemeinen Geschäftsbedingungen stammen, heißt FITSEVENELEVEN.\u001b[0m\n",
      "\n",
      "\u001b[1m> Finished chain.\u001b[0m\n",
      "\n",
      "\n",
      "\u001b[1m> Entering new LLMChain chain...\u001b[0m\n",
      "Prompt after formatting:\n",
      "\u001b[32;1m\u001b[1;3mHuman: Extract the name of the provider,     the subscription models and notice period from this text inscribed by '''     '''The notice period for termination of the contract is one month at the end of the initial contract term. The possible membership models are the Classic 60 membership contract and the Feel Free membership contract. The provider from whom these general terms and conditions originate is called FITSEVENELEVEN.'''.     The output should be a markdown code snippet formatted in the following schema, including the leading and trailing \"```json\" and \"```\":\n",
      "\n",
      "```json\n",
      "{\n",
      "\t\"name\": str  // name of the provider\n",
      "\t\"subscription_models\": str  // Different subscription models\n",
      "\t\"termination_policy\": str  // Notice period for the contract\n",
      "}\n",
      "```\u001b[0m\n",
      "\n",
      "\u001b[1m> Finished chain.\u001b[0m\n",
      "\n",
      "\u001b[1m> Finished chain.\u001b[0m\n",
      "\n",
      "\n",
      "\u001b[1m> Entering new SequentialChain chain...\u001b[0m\n",
      "\n",
      "\n",
      "\u001b[1m> Entering new LLMChain chain...\u001b[0m\n",
      "Prompt after formatting:\n",
      "\u001b[32;1m\u001b[1;3mHuman: Translate the following text from       German to English: Die Kündigungsfrist des Vertrags beträgt einen Monat vor Ablauf der ausgewählten Vertragslaufzeit. Wenn der Vertrag nicht gekündigt wird, verlängert er sich auf unbestimmte Zeit und kann dann jederzeit mit einer Frist von einem Monat gekündigt werden.\n",
      "\n",
      "Die möglichen Mitgliedschaftsmodelle sind \"Economy\", \"Basic\" und \"Flex\". \n",
      "\n",
      "Der Anbieter, von dem diese Allgemeinen Geschäftsbedingungen stammen, ist terra sports.\u001b[0m\n",
      "\n",
      "\u001b[1m> Finished chain.\u001b[0m\n",
      "\n",
      "\n",
      "\u001b[1m> Entering new LLMChain chain...\u001b[0m\n",
      "Prompt after formatting:\n",
      "\u001b[32;1m\u001b[1;3mHuman: Extract the name of the provider,     the subscription models and notice period from this text inscribed by '''     '''The notice period for termination of the contract is one month prior to the end of the selected contract term. If the contract is not terminated, it will be extended indefinitely and can then be terminated at any time with one month's notice.\n",
      "\n",
      "The possible membership models are \"Economy\", \"Basic\" and \"Flex\".\n",
      "\n",
      "The provider from whom these general terms and conditions originate is terra sports.'''.     The output should be a markdown code snippet formatted in the following schema, including the leading and trailing \"```json\" and \"```\":\n",
      "\n",
      "```json\n",
      "{\n",
      "\t\"name\": str  // name of the provider\n",
      "\t\"subscription_models\": str  // Different subscription models\n",
      "\t\"termination_policy\": str  // Notice period for the contract\n",
      "}\n",
      "```\u001b[0m\n",
      "\n",
      "\u001b[1m> Finished chain.\u001b[0m\n",
      "\n",
      "\u001b[1m> Finished chain.\u001b[0m\n",
      "\n",
      "\n",
      "\u001b[1m> Entering new SequentialChain chain...\u001b[0m\n",
      "\n",
      "\n",
      "\u001b[1m> Entering new LLMChain chain...\u001b[0m\n",
      "Prompt after formatting:\n",
      "\u001b[32;1m\u001b[1;3mHuman: Translate the following text from       German to English: Die Kündigungsfrist des Vertrags beträgt 4 Wochen vor dem jeweiligen Beendigungszeitpunkt für Verträge mit einer Erstlaufzeit von 12 Wochen und 12 Wochen vor dem jeweiligen Beendigungszeitpunkt für Verträge mit einer Erstlaufzeit von 52 oder 104 Wochen. Die Kündigung muss in Textform erfolgen.\n",
      "\n",
      "Die möglichen Mitgliedschaftsmodelle sind EMS, Milon & Five und Premium. EMS beinhaltet eine Trainingseinheit pro Woche, die nach Terminvereinbarung stattfindet. Milon & Five kann in Verbindung mit einem zu Beginn gekauften Transponder genutzt werden. Das Premium-Modell kombiniert die Leistungen von EMS und Milon & Five.\n",
      "\n",
      "Der Anbieter, von dem diese Allgemeinen Geschäftsbedingungen stammen, ist Body Shape Fitness.\u001b[0m\n",
      "\n",
      "\u001b[1m> Finished chain.\u001b[0m\n",
      "\n",
      "\n",
      "\u001b[1m> Entering new LLMChain chain...\u001b[0m\n",
      "Prompt after formatting:\n",
      "\u001b[32;1m\u001b[1;3mHuman: Extract the name of the provider,     the subscription models and notice period from this text inscribed by '''     '''The notice period for termination of the contract is 4 weeks prior to the respective termination date for contracts with an initial term of 12 weeks, and 12 weeks prior to the respective termination date for contracts with an initial term of 52 or 104 weeks. The termination must be in written form.\n",
      "\n",
      "The possible membership models are EMS, Milon & Five, and Premium. EMS includes one training session per week, which takes place after appointment scheduling. Milon & Five can be used in conjunction with a transponder purchased at the beginning. The Premium model combines the services of EMS and Milon & Five.\n",
      "\n",
      "The provider from whom these general terms and conditions originate is Body Shape Fitness.'''.     The output should be a markdown code snippet formatted in the following schema, including the leading and trailing \"```json\" and \"```\":\n",
      "\n",
      "```json\n",
      "{\n",
      "\t\"name\": str  // name of the provider\n",
      "\t\"subscription_models\": str  // Different subscription models\n",
      "\t\"termination_policy\": str  // Notice period for the contract\n",
      "}\n",
      "```\u001b[0m\n",
      "\n",
      "\u001b[1m> Finished chain.\u001b[0m\n",
      "\n",
      "\u001b[1m> Finished chain.\u001b[0m\n",
      "\n",
      "\n",
      "\u001b[1m> Entering new SequentialChain chain...\u001b[0m\n",
      "\n",
      "\n",
      "\u001b[1m> Entering new LLMChain chain...\u001b[0m\n",
      "Prompt after formatting:\n",
      "\u001b[32;1m\u001b[1;3mHuman: Translate the following text from       German to English: Die Kündigungsfrist des Vertrags beträgt einen Monat vor Ablauf der Mindestlaufzeit. Nach Ende der Mindestlaufzeit kann der Vertrag jederzeit mit einer Frist von einem Monat gekündigt werden. \n",
      "\n",
      "Die verschiedenen Mitgliedschaftsmodelle werden in den AGB nicht explizit genannt, es wird jedoch auf verschiedene Pakete und Tarife verwiesen, die auf der Website von jumpers fitness zu finden sind.\n",
      "\n",
      "Der Anbieter, von dem diese AGB stammen, ist die jumpers fitness GmbH.\u001b[0m\n",
      "\n",
      "\u001b[1m> Finished chain.\u001b[0m\n",
      "\n",
      "\n",
      "\u001b[1m> Entering new LLMChain chain...\u001b[0m\n",
      "Prompt after formatting:\n",
      "\u001b[32;1m\u001b[1;3mHuman: Extract the name of the provider,     the subscription models and notice period from this text inscribed by '''     '''The notice period for termination of the contract is one month before the minimum term expires. After the minimum term has ended, the contract can be terminated at any time with one month's notice.\n",
      "\n",
      "The various membership models are not explicitly mentioned in the terms and conditions, but reference is made to various packages and tariffs that can be found on the jumpers fitness website.\n",
      "\n",
      "The provider of these terms and conditions is jumpers fitness GmbH.'''.     The output should be a markdown code snippet formatted in the following schema, including the leading and trailing \"```json\" and \"```\":\n",
      "\n",
      "```json\n",
      "{\n",
      "\t\"name\": str  // name of the provider\n",
      "\t\"subscription_models\": str  // Different subscription models\n",
      "\t\"termination_policy\": str  // Notice period for the contract\n",
      "}\n",
      "```\u001b[0m\n",
      "\n",
      "\u001b[1m> Finished chain.\u001b[0m\n",
      "\n",
      "\u001b[1m> Finished chain.\u001b[0m\n",
      "[{'name': 'RSG Group GmbH', 'subscription_models': 'Contracts with a minimum contract term and contracts without a fixed contract term, also known as \"flex contracts\"', 'termination_policy': \"The notice period for termination of the contract is indicated on the contract cover sheet. After the minimum term has expired, the contract can be terminated by either party at any time with one month's notice.\"}, {'name': 'Holmes Place', 'subscription_models': 'Contracts with minimum terms of 3, 12, and 24 months, and a VIP membership with a minimum term of 3 months', 'termination_policy': 'For contracts with a minimum term of 12 or 24 months, the member can terminate the contract at the earliest upon expiry of the minimum term, subject to a notice period of one month to the end of the month. For contracts with a minimum term of 3 months, the notice period is also one month to the end of the month. For contracts concluded before 01.03.2022, a notice period of 3 months to the end of the term applies.'}, {'name': 'FitX', 'subscription_models': 'Not specified', 'termination_policy': 'Not specified'}, {'name': 'FITSEVENELEVEN', 'subscription_models': 'Classic 60 membership contract and the Feel Free membership contract', 'termination_policy': 'one month at the end of the initial contract term'}, {'name': 'terra sports', 'subscription_models': ['Economy', 'Basic', 'Flex'], 'termination_policy': \"The notice period for termination of the contract is one month prior to the end of the selected contract term. If the contract is not terminated, it will be extended indefinitely and can then be terminated at any time with one month's notice.\"}, {'name': 'Body Shape Fitness', 'subscription_models': 'EMS, Milon & Five, Premium', 'termination_policy': '4 weeks prior to termination date for contracts with initial term of 12 weeks, 12 weeks prior to termination date for contracts with initial term of 52 or 104 weeks'}, {'name': 'jumpers fitness GmbH', 'subscription_models': 'Various packages and tariffs', 'termination_policy': 'One month before the minimum term expires'}]\n",
      "                   name                                subscription_models  \\\n",
      "0        RSG Group GmbH  Contracts with a minimum contract term and con...   \n",
      "1          Holmes Place  Contracts with minimum terms of 3, 12, and 24 ...   \n",
      "2                  FitX                                      Not specified   \n",
      "3        FITSEVENELEVEN  Classic 60 membership contract and the Feel Fr...   \n",
      "4          terra sports                             [Economy, Basic, Flex]   \n",
      "5    Body Shape Fitness                         EMS, Milon & Five, Premium   \n",
      "6  jumpers fitness GmbH                       Various packages and tariffs   \n",
      "\n",
      "                                  termination_policy  \n",
      "0  The notice period for termination of the contr...  \n",
      "1  For contracts with a minimum term of 12 or 24 ...  \n",
      "2                                      Not specified  \n",
      "3  one month at the end of the initial contract term  \n",
      "4  The notice period for termination of the contr...  \n",
      "5  4 weeks prior to termination date for contract...  \n",
      "6          One month before the minimum term expires  \n"
     ]
    }
   ],
   "source": [
    "gym_data = []\n",
    "for i in range(1,8):\n",
    "    filename = './resources/AGB{}.pdf'.format(i)\n",
    "    curr_response = extract_info_from_pdf(filename)\n",
    "    gym_data.append(curr_response)\n",
    "\n",
    "print(gym_data)\n",
    "dataFrame = pd.DataFrame(gym_data)\n",
    "print(dataFrame)\n",
    "dataFrame.to_csv('all_providers.csv', index=False)"
   ]
  },
  {
   "cell_type": "markdown",
   "id": "eab8bc50",
   "metadata": {},
   "source": [
    "#### Visualizing some entries of the output csv document as a pandas dataframe"
   ]
  },
  {
   "cell_type": "code",
   "execution_count": 662,
   "id": "3d02def1",
   "metadata": {},
   "outputs": [
    {
     "data": {
      "text/html": [
       "<div>\n",
       "<style scoped>\n",
       "    .dataframe tbody tr th:only-of-type {\n",
       "        vertical-align: middle;\n",
       "    }\n",
       "\n",
       "    .dataframe tbody tr th {\n",
       "        vertical-align: top;\n",
       "    }\n",
       "\n",
       "    .dataframe thead th {\n",
       "        text-align: right;\n",
       "    }\n",
       "</style>\n",
       "<table border=\"1\" class=\"dataframe\">\n",
       "  <thead>\n",
       "    <tr style=\"text-align: right;\">\n",
       "      <th></th>\n",
       "      <th>name</th>\n",
       "      <th>subscription_models</th>\n",
       "      <th>termination_policy</th>\n",
       "    </tr>\n",
       "  </thead>\n",
       "  <tbody>\n",
       "    <tr>\n",
       "      <th>0</th>\n",
       "      <td>RSG Group GmbH</td>\n",
       "      <td>Contracts with a minimum contract term and con...</td>\n",
       "      <td>The notice period for termination of the contr...</td>\n",
       "    </tr>\n",
       "    <tr>\n",
       "      <th>1</th>\n",
       "      <td>Holmes Place</td>\n",
       "      <td>Contracts with minimum terms of 3, 12, and 24 ...</td>\n",
       "      <td>For contracts with a minimum term of 12 or 24 ...</td>\n",
       "    </tr>\n",
       "    <tr>\n",
       "      <th>2</th>\n",
       "      <td>FitX</td>\n",
       "      <td>Not specified</td>\n",
       "      <td>Not specified</td>\n",
       "    </tr>\n",
       "    <tr>\n",
       "      <th>3</th>\n",
       "      <td>FITSEVENELEVEN</td>\n",
       "      <td>Classic 60 membership contract and the Feel Fr...</td>\n",
       "      <td>one month at the end of the initial contract term</td>\n",
       "    </tr>\n",
       "    <tr>\n",
       "      <th>4</th>\n",
       "      <td>terra sports</td>\n",
       "      <td>['Economy', 'Basic', 'Flex']</td>\n",
       "      <td>The notice period for termination of the contr...</td>\n",
       "    </tr>\n",
       "  </tbody>\n",
       "</table>\n",
       "</div>"
      ],
      "text/plain": [
       "             name                                subscription_models  \\\n",
       "0  RSG Group GmbH  Contracts with a minimum contract term and con...   \n",
       "1    Holmes Place  Contracts with minimum terms of 3, 12, and 24 ...   \n",
       "2            FitX                                      Not specified   \n",
       "3  FITSEVENELEVEN  Classic 60 membership contract and the Feel Fr...   \n",
       "4    terra sports                       ['Economy', 'Basic', 'Flex']   \n",
       "\n",
       "                                  termination_policy  \n",
       "0  The notice period for termination of the contr...  \n",
       "1  For contracts with a minimum term of 12 or 24 ...  \n",
       "2                                      Not specified  \n",
       "3  one month at the end of the initial contract term  \n",
       "4  The notice period for termination of the contr...  "
      ]
     },
     "execution_count": 662,
     "metadata": {},
     "output_type": "execute_result"
    }
   ],
   "source": [
    "df = pd.read_csv('all_providers.csv')\n",
    "df.head()"
   ]
  },
  {
   "cell_type": "markdown",
   "id": "1c06b046",
   "metadata": {},
   "source": [
    "### Using Agents with Langchain"
   ]
  },
  {
   "cell_type": "code",
   "execution_count": 611,
   "id": "09497f58",
   "metadata": {},
   "outputs": [
    {
     "ename": "FileNotFoundError",
     "evalue": "[Errno 2] No such file or directory: './resources/encrypted_demo_data.csv'",
     "output_type": "error",
     "traceback": [
      "\u001b[0;31m---------------------------------------------------------------------------\u001b[0m",
      "\u001b[0;31mFileNotFoundError\u001b[0m                         Traceback (most recent call last)",
      "\u001b[1;32m/Users/anwarmo/Downloads/Getting Better/MareiVenture/LangChainPlayGround/LiveDemo.ipynb Cell 44\u001b[0m line \u001b[0;36m4\n\u001b[1;32m      <a href='vscode-notebook-cell:/Users/anwarmo/Downloads/Getting%20Better/MareiVenture/LangChainPlayGround/LiveDemo.ipynb#Y252sZmlsZQ%3D%3D?line=1'>2</a>\u001b[0m \u001b[39mfrom\u001b[39;00m \u001b[39mlangchain\u001b[39;00m\u001b[39m.\u001b[39;00m\u001b[39magents\u001b[39;00m \u001b[39mimport\u001b[39;00m create_pandas_dataframe_agent\n\u001b[1;32m      <a href='vscode-notebook-cell:/Users/anwarmo/Downloads/Getting%20Better/MareiVenture/LangChainPlayGround/LiveDemo.ipynb#Y252sZmlsZQ%3D%3D?line=2'>3</a>\u001b[0m \u001b[39mfrom\u001b[39;00m \u001b[39mlangchain\u001b[39;00m\u001b[39m.\u001b[39;00m\u001b[39mdocument_loaders\u001b[39;00m \u001b[39mimport\u001b[39;00m DataFrameLoader\n\u001b[0;32m----> <a href='vscode-notebook-cell:/Users/anwarmo/Downloads/Getting%20Better/MareiVenture/LangChainPlayGround/LiveDemo.ipynb#Y252sZmlsZQ%3D%3D?line=3'>4</a>\u001b[0m df \u001b[39m=\u001b[39m pd\u001b[39m.\u001b[39;49mread_csv(\u001b[39m'\u001b[39;49m\u001b[39m./resources/encrypted_demo_data.csv\u001b[39;49m\u001b[39m'\u001b[39;49m)\n\u001b[1;32m      <a href='vscode-notebook-cell:/Users/anwarmo/Downloads/Getting%20Better/MareiVenture/LangChainPlayGround/LiveDemo.ipynb#Y252sZmlsZQ%3D%3D?line=4'>5</a>\u001b[0m df\u001b[39m.\u001b[39mhead()\n",
      "File \u001b[0;32m~/opt/anaconda3/envs/openaienv/lib/python3.9/site-packages/pandas/io/parsers/readers.py:948\u001b[0m, in \u001b[0;36mread_csv\u001b[0;34m(filepath_or_buffer, sep, delimiter, header, names, index_col, usecols, dtype, engine, converters, true_values, false_values, skipinitialspace, skiprows, skipfooter, nrows, na_values, keep_default_na, na_filter, verbose, skip_blank_lines, parse_dates, infer_datetime_format, keep_date_col, date_parser, date_format, dayfirst, cache_dates, iterator, chunksize, compression, thousands, decimal, lineterminator, quotechar, quoting, doublequote, escapechar, comment, encoding, encoding_errors, dialect, on_bad_lines, delim_whitespace, low_memory, memory_map, float_precision, storage_options, dtype_backend)\u001b[0m\n\u001b[1;32m    935\u001b[0m kwds_defaults \u001b[39m=\u001b[39m _refine_defaults_read(\n\u001b[1;32m    936\u001b[0m     dialect,\n\u001b[1;32m    937\u001b[0m     delimiter,\n\u001b[0;32m   (...)\u001b[0m\n\u001b[1;32m    944\u001b[0m     dtype_backend\u001b[39m=\u001b[39mdtype_backend,\n\u001b[1;32m    945\u001b[0m )\n\u001b[1;32m    946\u001b[0m kwds\u001b[39m.\u001b[39mupdate(kwds_defaults)\n\u001b[0;32m--> 948\u001b[0m \u001b[39mreturn\u001b[39;00m _read(filepath_or_buffer, kwds)\n",
      "File \u001b[0;32m~/opt/anaconda3/envs/openaienv/lib/python3.9/site-packages/pandas/io/parsers/readers.py:611\u001b[0m, in \u001b[0;36m_read\u001b[0;34m(filepath_or_buffer, kwds)\u001b[0m\n\u001b[1;32m    608\u001b[0m _validate_names(kwds\u001b[39m.\u001b[39mget(\u001b[39m\"\u001b[39m\u001b[39mnames\u001b[39m\u001b[39m\"\u001b[39m, \u001b[39mNone\u001b[39;00m))\n\u001b[1;32m    610\u001b[0m \u001b[39m# Create the parser.\u001b[39;00m\n\u001b[0;32m--> 611\u001b[0m parser \u001b[39m=\u001b[39m TextFileReader(filepath_or_buffer, \u001b[39m*\u001b[39;49m\u001b[39m*\u001b[39;49mkwds)\n\u001b[1;32m    613\u001b[0m \u001b[39mif\u001b[39;00m chunksize \u001b[39mor\u001b[39;00m iterator:\n\u001b[1;32m    614\u001b[0m     \u001b[39mreturn\u001b[39;00m parser\n",
      "File \u001b[0;32m~/opt/anaconda3/envs/openaienv/lib/python3.9/site-packages/pandas/io/parsers/readers.py:1448\u001b[0m, in \u001b[0;36mTextFileReader.__init__\u001b[0;34m(self, f, engine, **kwds)\u001b[0m\n\u001b[1;32m   1445\u001b[0m     \u001b[39mself\u001b[39m\u001b[39m.\u001b[39moptions[\u001b[39m\"\u001b[39m\u001b[39mhas_index_names\u001b[39m\u001b[39m\"\u001b[39m] \u001b[39m=\u001b[39m kwds[\u001b[39m\"\u001b[39m\u001b[39mhas_index_names\u001b[39m\u001b[39m\"\u001b[39m]\n\u001b[1;32m   1447\u001b[0m \u001b[39mself\u001b[39m\u001b[39m.\u001b[39mhandles: IOHandles \u001b[39m|\u001b[39m \u001b[39mNone\u001b[39;00m \u001b[39m=\u001b[39m \u001b[39mNone\u001b[39;00m\n\u001b[0;32m-> 1448\u001b[0m \u001b[39mself\u001b[39m\u001b[39m.\u001b[39m_engine \u001b[39m=\u001b[39m \u001b[39mself\u001b[39;49m\u001b[39m.\u001b[39;49m_make_engine(f, \u001b[39mself\u001b[39;49m\u001b[39m.\u001b[39;49mengine)\n",
      "File \u001b[0;32m~/opt/anaconda3/envs/openaienv/lib/python3.9/site-packages/pandas/io/parsers/readers.py:1705\u001b[0m, in \u001b[0;36mTextFileReader._make_engine\u001b[0;34m(self, f, engine)\u001b[0m\n\u001b[1;32m   1703\u001b[0m     \u001b[39mif\u001b[39;00m \u001b[39m\"\u001b[39m\u001b[39mb\u001b[39m\u001b[39m\"\u001b[39m \u001b[39mnot\u001b[39;00m \u001b[39min\u001b[39;00m mode:\n\u001b[1;32m   1704\u001b[0m         mode \u001b[39m+\u001b[39m\u001b[39m=\u001b[39m \u001b[39m\"\u001b[39m\u001b[39mb\u001b[39m\u001b[39m\"\u001b[39m\n\u001b[0;32m-> 1705\u001b[0m \u001b[39mself\u001b[39m\u001b[39m.\u001b[39mhandles \u001b[39m=\u001b[39m get_handle(\n\u001b[1;32m   1706\u001b[0m     f,\n\u001b[1;32m   1707\u001b[0m     mode,\n\u001b[1;32m   1708\u001b[0m     encoding\u001b[39m=\u001b[39;49m\u001b[39mself\u001b[39;49m\u001b[39m.\u001b[39;49moptions\u001b[39m.\u001b[39;49mget(\u001b[39m\"\u001b[39;49m\u001b[39mencoding\u001b[39;49m\u001b[39m\"\u001b[39;49m, \u001b[39mNone\u001b[39;49;00m),\n\u001b[1;32m   1709\u001b[0m     compression\u001b[39m=\u001b[39;49m\u001b[39mself\u001b[39;49m\u001b[39m.\u001b[39;49moptions\u001b[39m.\u001b[39;49mget(\u001b[39m\"\u001b[39;49m\u001b[39mcompression\u001b[39;49m\u001b[39m\"\u001b[39;49m, \u001b[39mNone\u001b[39;49;00m),\n\u001b[1;32m   1710\u001b[0m     memory_map\u001b[39m=\u001b[39;49m\u001b[39mself\u001b[39;49m\u001b[39m.\u001b[39;49moptions\u001b[39m.\u001b[39;49mget(\u001b[39m\"\u001b[39;49m\u001b[39mmemory_map\u001b[39;49m\u001b[39m\"\u001b[39;49m, \u001b[39mFalse\u001b[39;49;00m),\n\u001b[1;32m   1711\u001b[0m     is_text\u001b[39m=\u001b[39;49mis_text,\n\u001b[1;32m   1712\u001b[0m     errors\u001b[39m=\u001b[39;49m\u001b[39mself\u001b[39;49m\u001b[39m.\u001b[39;49moptions\u001b[39m.\u001b[39;49mget(\u001b[39m\"\u001b[39;49m\u001b[39mencoding_errors\u001b[39;49m\u001b[39m\"\u001b[39;49m, \u001b[39m\"\u001b[39;49m\u001b[39mstrict\u001b[39;49m\u001b[39m\"\u001b[39;49m),\n\u001b[1;32m   1713\u001b[0m     storage_options\u001b[39m=\u001b[39;49m\u001b[39mself\u001b[39;49m\u001b[39m.\u001b[39;49moptions\u001b[39m.\u001b[39;49mget(\u001b[39m\"\u001b[39;49m\u001b[39mstorage_options\u001b[39;49m\u001b[39m\"\u001b[39;49m, \u001b[39mNone\u001b[39;49;00m),\n\u001b[1;32m   1714\u001b[0m )\n\u001b[1;32m   1715\u001b[0m \u001b[39massert\u001b[39;00m \u001b[39mself\u001b[39m\u001b[39m.\u001b[39mhandles \u001b[39mis\u001b[39;00m \u001b[39mnot\u001b[39;00m \u001b[39mNone\u001b[39;00m\n\u001b[1;32m   1716\u001b[0m f \u001b[39m=\u001b[39m \u001b[39mself\u001b[39m\u001b[39m.\u001b[39mhandles\u001b[39m.\u001b[39mhandle\n",
      "File \u001b[0;32m~/opt/anaconda3/envs/openaienv/lib/python3.9/site-packages/pandas/io/common.py:863\u001b[0m, in \u001b[0;36mget_handle\u001b[0;34m(path_or_buf, mode, encoding, compression, memory_map, is_text, errors, storage_options)\u001b[0m\n\u001b[1;32m    858\u001b[0m \u001b[39melif\u001b[39;00m \u001b[39misinstance\u001b[39m(handle, \u001b[39mstr\u001b[39m):\n\u001b[1;32m    859\u001b[0m     \u001b[39m# Check whether the filename is to be opened in binary mode.\u001b[39;00m\n\u001b[1;32m    860\u001b[0m     \u001b[39m# Binary mode does not support 'encoding' and 'newline'.\u001b[39;00m\n\u001b[1;32m    861\u001b[0m     \u001b[39mif\u001b[39;00m ioargs\u001b[39m.\u001b[39mencoding \u001b[39mand\u001b[39;00m \u001b[39m\"\u001b[39m\u001b[39mb\u001b[39m\u001b[39m\"\u001b[39m \u001b[39mnot\u001b[39;00m \u001b[39min\u001b[39;00m ioargs\u001b[39m.\u001b[39mmode:\n\u001b[1;32m    862\u001b[0m         \u001b[39m# Encoding\u001b[39;00m\n\u001b[0;32m--> 863\u001b[0m         handle \u001b[39m=\u001b[39m \u001b[39mopen\u001b[39;49m(\n\u001b[1;32m    864\u001b[0m             handle,\n\u001b[1;32m    865\u001b[0m             ioargs\u001b[39m.\u001b[39;49mmode,\n\u001b[1;32m    866\u001b[0m             encoding\u001b[39m=\u001b[39;49mioargs\u001b[39m.\u001b[39;49mencoding,\n\u001b[1;32m    867\u001b[0m             errors\u001b[39m=\u001b[39;49merrors,\n\u001b[1;32m    868\u001b[0m             newline\u001b[39m=\u001b[39;49m\u001b[39m\"\u001b[39;49m\u001b[39m\"\u001b[39;49m,\n\u001b[1;32m    869\u001b[0m         )\n\u001b[1;32m    870\u001b[0m     \u001b[39melse\u001b[39;00m:\n\u001b[1;32m    871\u001b[0m         \u001b[39m# Binary mode\u001b[39;00m\n\u001b[1;32m    872\u001b[0m         handle \u001b[39m=\u001b[39m \u001b[39mopen\u001b[39m(handle, ioargs\u001b[39m.\u001b[39mmode)\n",
      "\u001b[0;31mFileNotFoundError\u001b[0m: [Errno 2] No such file or directory: './resources/encrypted_demo_data.csv'"
     ]
    }
   ],
   "source": [
    "import pandas as pd\n",
    "from langchain.agents import create_pandas_dataframe_agent\n",
    "from langchain.document_loaders import DataFrameLoader\n",
    "df = pd.read_csv('./resources/encrypted_demo_data.csv')\n",
    "df.head()\n",
    "\n"
   ]
  },
  {
   "cell_type": "code",
   "execution_count": 149,
   "id": "d3e905bb",
   "metadata": {},
   "outputs": [],
   "source": [
    "pandas_agent = create_pandas_dataframe_agent(llm4, df, verbose=False)"
   ]
  },
  {
   "cell_type": "code",
   "execution_count": 154,
   "id": "aaf5788f",
   "metadata": {},
   "outputs": [],
   "source": [
    "from langchain.agents import create_csv_agent\n",
    "csv_agent = create_csv_agent(llm4,\"./resources/encrypted_demo_data.csv\", verbose=True)"
   ]
  },
  {
   "cell_type": "code",
   "execution_count": 155,
   "id": "3f48569e",
   "metadata": {},
   "outputs": [
    {
     "name": "stdout",
     "output_type": "stream",
     "text": [
      "\n",
      "\n",
      "\u001b[1m> Entering new AgentExecutor chain...\u001b[0m\n",
      "\u001b[32;1m\u001b[1;3mThought: To find the year with the most clicks, I need to group the data by year and sum the clicks for each year. Then, I can find the year with the maximum sum of clicks.\n",
      "Action: python_repl_ast\n",
      "Action Input: df.groupby('Year')['clicks'].sum().idxmax()\u001b[0m\n",
      "Observation: \u001b[36;1m\u001b[1;3m2023\u001b[0m\n",
      "Thought:\u001b[32;1m\u001b[1;3mI now know the final answer.\n",
      "Final Answer: The year with the most clicks was 2023.\u001b[0m\n",
      "\n",
      "\u001b[1m> Finished chain.\u001b[0m\n"
     ]
    },
    {
     "data": {
      "text/plain": [
       "'The year with the most clicks was 2023.'"
      ]
     },
     "execution_count": 155,
     "metadata": {},
     "output_type": "execute_result"
    }
   ],
   "source": [
    "csv_agent.run(\"What was the year with the most clicks?\")"
   ]
  },
  {
   "cell_type": "code",
   "execution_count": 156,
   "id": "51c712aa",
   "metadata": {},
   "outputs": [
    {
     "data": {
      "text/plain": [
       "'The number of clicks for 2023 is 10995.'"
      ]
     },
     "execution_count": 156,
     "metadata": {},
     "output_type": "execute_result"
    }
   ],
   "source": [
    "\n",
    "pandas_agent.run(\"What is the number of clicks for 2023?\")"
   ]
  },
  {
   "cell_type": "code",
   "execution_count": 157,
   "id": "a8b061d5",
   "metadata": {},
   "outputs": [
    {
     "name": "stdout",
     "output_type": "stream",
     "text": [
      "\n",
      "\n",
      "\u001b[1m> Entering new AgentExecutor chain...\u001b[0m\n",
      "\u001b[32;1m\u001b[1;3mThought: To find the difference between the highest and lowest number of clicks per year, I first need to group the data by year and find the sum of clicks for each year. Then I can find the maximum and minimum number of clicks and calculate the difference.\n",
      "Action: python_repl_ast\n",
      "Action Input: df.groupby('Year')['clicks'].sum().max() - df.groupby('Year')['clicks'].sum().min()\u001b[0m\n",
      "Observation: \u001b[36;1m\u001b[1;3m3245\u001b[0m\n",
      "Thought:\u001b[32;1m\u001b[1;3mThe difference between the highest number of clicks per year and the lowest number of clicks per year is 3245.\n",
      "Final Answer: 3245\u001b[0m\n",
      "\n",
      "\u001b[1m> Finished chain.\u001b[0m\n"
     ]
    },
    {
     "data": {
      "text/plain": [
       "{'input': 'What is the difference between the highest number of     clicks per year and the lowest number of clicks per year?',\n",
       " 'output': '3245'}"
      ]
     },
     "execution_count": 157,
     "metadata": {},
     "output_type": "execute_result"
    }
   ],
   "source": [
    "csv_agent(\"What is the difference between the highest number of \\\n",
    "    clicks per year and the lowest number of clicks per year?\")"
   ]
  },
  {
   "cell_type": "code",
   "execution_count": 158,
   "id": "5ad5579a",
   "metadata": {},
   "outputs": [
    {
     "name": "stdout",
     "output_type": "stream",
     "text": [
      "\n",
      "\n",
      "\u001b[1m> Entering new AgentExecutor chain...\u001b[0m\n",
      "\u001b[32;1m\u001b[1;3mThought: To find the standard deviation of a column in a pandas dataframe, we can use the `std()` function. In this case, we want to find the standard deviation of the 'impression' column.\n",
      "Action: python_repl_ast\n",
      "Action Input: df['impression'].std()\u001b[0m\n",
      "Observation: \u001b[36;1m\u001b[1;3m739.0727484081204\u001b[0m\n",
      "Thought:\u001b[32;1m\u001b[1;3mThe standard deviation of the impressions is approximately 739.07.\n",
      "Final Answer: The standard deviation of the impressions is approximately 739.07.\u001b[0m\n",
      "\n",
      "\u001b[1m> Finished chain.\u001b[0m\n"
     ]
    },
    {
     "data": {
      "text/plain": [
       "'The standard deviation of the impressions is approximately 739.07.'"
      ]
     },
     "execution_count": 158,
     "metadata": {},
     "output_type": "execute_result"
    }
   ],
   "source": [
    "csv_agent.run(\"What is the standard deviation of the impressions?\")"
   ]
  },
  {
   "cell_type": "code",
   "execution_count": 159,
   "id": "43a41d52",
   "metadata": {},
   "outputs": [],
   "source": [
    "import matplotlib\n"
   ]
  },
  {
   "cell_type": "code",
   "execution_count": 160,
   "id": "e652db3d",
   "metadata": {},
   "outputs": [
    {
     "name": "stdout",
     "output_type": "stream",
     "text": [
      "\n",
      "\n",
      "\u001b[1m> Entering new AgentExecutor chain...\u001b[0m\n",
      "\u001b[32;1m\u001b[1;3mThought: To find the year with the highest impression_clicks_funnel, I need to group the data by year and calculate the sum of clicks and impressions for each year. Then, I will calculate the ratio between these two sums for each year. Finally, I will find the year with the highest ratio. To plot the impression_clicks_funnel for all years, I can use the matplotlib library.\n",
      "Action: python_repl_ast\n",
      "Action Input: df.groupby('Year').sum()[['impression', 'clicks']]\u001b[0m\n",
      "Observation: \u001b[36;1m\u001b[1;3m      impression  clicks\n",
      "Year                    \n",
      "2020       48973    7750\n",
      "2021       55219    8727\n",
      "2022       44411    8205\n",
      "2023       56581   10995\u001b[0m\n",
      "Thought:\u001b[32;1m\u001b[1;3mI have the sum of impressions and clicks for each year. Now I will calculate the ratio between these two sums for each year.\n",
      "Action: python_repl_ast\n",
      "Action Input: df.groupby('Year').apply(lambda x: x['clicks'].sum() / x['impression'].sum())\u001b[0m\n",
      "Observation: \u001b[36;1m\u001b[1;3mYear\n",
      "2020    0.158250\n",
      "2021    0.158043\n",
      "2022    0.184752\n",
      "2023    0.194323\n",
      "dtype: float64\u001b[0m\n",
      "Thought:\u001b[32;1m\u001b[1;3mI have calculated the impression_clicks_funnel for each year. The year with the highest impression_clicks_funnel is 2023. Now I will plot the impression_clicks_funnel for all years in a bar chart.\n",
      "Action: python_repl_ast\n",
      "Action Input: \n",
      "import matplotlib.pyplot as plt\n",
      "\n",
      "impression_clicks_funnel = df.groupby('Year').apply(lambda x: x['clicks'].sum() / x['impression'].sum())\n",
      "years = impression_clicks_funnel.index\n",
      "values = impression_clicks_funnel.values\n",
      "\n",
      "plt.bar(years, values)\n",
      "plt.xlabel('Year')\n",
      "plt.ylabel('Impression Clicks Funnel')\n",
      "plt.title('Impression Clicks Funnel by Year')\n",
      "plt.show()\u001b[0m"
     ]
    },
    {
     "data": {
      "image/png": "[encoded data removed]",
      "text/plain": [
       "<Figure size 640x480 with 1 Axes>"
      ]
     },
     "metadata": {},
     "output_type": "display_data"
    },
    {
     "name": "stdout",
     "output_type": "stream",
     "text": [
      "\n",
      "Observation: \u001b[36;1m\u001b[1;3m\u001b[0m\n",
      "Thought:\u001b[32;1m\u001b[1;3mI have successfully plotted the impression_clicks_funnel for all years in a bar chart. The bar chart shows that the impression_clicks_funnel is highest in 2023.\n",
      "Final Answer: The year with the highest impression_clicks_funnel is 2023.\u001b[0m\n",
      "\n",
      "\u001b[1m> Finished chain.\u001b[0m\n"
     ]
    },
    {
     "data": {
      "text/plain": [
       "{'input': 'If the impression_clicks_funnel for a given year     is the ratio between the sum of clicks and the sum of impressions in this year,         which year had the highest impression_clicks_funnel?             Please also plot the impression_clicks_funnel for all years in a bar chart',\n",
       " 'output': 'The year with the highest impression_clicks_funnel is 2023.'}"
      ]
     },
     "execution_count": 160,
     "metadata": {},
     "output_type": "execute_result"
    }
   ],
   "source": [
    "csv_agent(\"If the impression_clicks_funnel for a given year \\\n",
    "    is the ratio between the sum of clicks and the sum of impressions in this year, \\\n",
    "        which year had the highest impression_clicks_funnel? \\\n",
    "            Please also plot the impression_clicks_funnel for all years in a bar chart\")"
   ]
  }
 ],
 "metadata": {
  "kernelspec": {
   "display_name": "Python 3 (ipykernel)",
   "language": "python",
   "name": "python3"
  },
  "language_info": {
   "codemirror_mode": {
    "name": "ipython",
    "version": 3
   },
   "file_extension": ".py",
   "mimetype": "text/x-python",
   "name": "python",
   "nbconvert_exporter": "python",
   "pygments_lexer": "ipython3",
   "version": "3.9.17"
  }
 },
 "nbformat": 4,
 "nbformat_minor": 5
}
